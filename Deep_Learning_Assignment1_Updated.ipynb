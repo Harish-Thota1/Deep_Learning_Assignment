{
  "cells": [
    {
      "cell_type": "markdown",
      "metadata": {
        "id": "view-in-github",
        "colab_type": "text"
      },
      "source": [
        "<a href=\"https://colab.research.google.com/github/Harish-topper12/Deep_Learning_Assignment/blob/main/Deep_Learning_Assignment1_Updated.ipynb\" target=\"_parent\"><img src=\"https://colab.research.google.com/assets/colab-badge.svg\" alt=\"Open In Colab\"/></a>"
      ]
    },
    {
      "cell_type": "markdown",
      "metadata": {
        "id": "OOM12Eyb321c"
      },
      "source": [
        "#### Import Libraries"
      ]
    },
    {
      "cell_type": "code",
      "execution_count": 1,
      "metadata": {
        "id": "FOjNBf0q33XC"
      },
      "outputs": [],
      "source": [
        "# Standard Libraries\n",
        "import csv\n",
        "import requests\n",
        "\n",
        "# Data Handling and Visualization Libraries\n",
        "import pandas as pd\n",
        "import matplotlib.pyplot as plt\n",
        "import seaborn as sns\n",
        "\n",
        "# Sklearn Libraries\n",
        "from sklearn.linear_model import Perceptron\n",
        "from sklearn.model_selection import GridSearchCV\n",
        "from sklearn.neural_network import MLPClassifier\n",
        "from sklearn.metrics import balanced_accuracy_score, f1_score, roc_auc_score, roc_curve\n",
        "\n",
        "# Tensorflow and Keras Basic Modules\n",
        "import tensorflow as tf\n",
        "from tensorflow.keras.models import Sequential\n",
        "from tensorflow.keras.layers import Dense\n",
        "from tensorflow.keras.metrics import AUC\n",
        "\n",
        "# Keras Layers, Regularizers, Optimizers, and Losses\n",
        "from keras.layers import Dense, Dropout, BatchNormalization\n",
        "from keras.regularizers import l1, l2, l1_l2\n",
        "from keras.optimizers import Adam, RMSprop, Adagrad\n",
        "from keras.losses import BinaryCrossentropy\n"
      ]
    },
    {
      "cell_type": "markdown",
      "metadata": {
        "id": "XtzPB_xK4APy"
      },
      "source": [
        "#### Import Data from url"
      ]
    },
    {
      "cell_type": "code",
      "execution_count": 2,
      "metadata": {
        "colab": {
          "base_uri": "https://localhost:8080/",
          "height": 206
        },
        "id": "kcXgmPXMUQcS",
        "outputId": "3b22442c-8daa-4913-91ef-edb15abd6035"
      },
      "outputs": [
        {
          "output_type": "execute_result",
          "data": {
            "text/plain": [
              "   0             1            2            3            4            5  \\\n",
              "0 -1   1:-0.294118   2:0.487437   3:0.180328  4:-0.292929         5:-1   \n",
              "1  1   1:-0.882353  2:-0.145729  3:0.0819672  4:-0.414141         5:-1   \n",
              "2 -1  1:-0.0588235   2:0.839196  3:0.0491803         4:-1         5:-1   \n",
              "3  1   1:-0.882353  2:-0.105528  3:0.0819672  4:-0.535354  5:-0.777778   \n",
              "4 -1          1:-1   2:0.376884  3:-0.344262  4:-0.292929  5:-0.602837   \n",
              "\n",
              "              6            7             8   9  \n",
              "0  6:0.00149028   7:-0.53117  8:-0.0333333 NaN  \n",
              "1   6:-0.207153  7:-0.766866   8:-0.666667 NaN  \n",
              "2   6:-0.305514  7:-0.492741   8:-0.633333 NaN  \n",
              "3   6:-0.162444  7:-0.923997          8:-1 NaN  \n",
              "4     6:0.28465   7:0.887276        8:-0.6 NaN  "
            ],
            "text/html": [
              "\n",
              "  <div id=\"df-987fe1fc-3d5b-4ddc-8bb2-d66033adb4dd\" class=\"colab-df-container\">\n",
              "    <div>\n",
              "<style scoped>\n",
              "    .dataframe tbody tr th:only-of-type {\n",
              "        vertical-align: middle;\n",
              "    }\n",
              "\n",
              "    .dataframe tbody tr th {\n",
              "        vertical-align: top;\n",
              "    }\n",
              "\n",
              "    .dataframe thead th {\n",
              "        text-align: right;\n",
              "    }\n",
              "</style>\n",
              "<table border=\"1\" class=\"dataframe\">\n",
              "  <thead>\n",
              "    <tr style=\"text-align: right;\">\n",
              "      <th></th>\n",
              "      <th>0</th>\n",
              "      <th>1</th>\n",
              "      <th>2</th>\n",
              "      <th>3</th>\n",
              "      <th>4</th>\n",
              "      <th>5</th>\n",
              "      <th>6</th>\n",
              "      <th>7</th>\n",
              "      <th>8</th>\n",
              "      <th>9</th>\n",
              "    </tr>\n",
              "  </thead>\n",
              "  <tbody>\n",
              "    <tr>\n",
              "      <th>0</th>\n",
              "      <td>-1</td>\n",
              "      <td>1:-0.294118</td>\n",
              "      <td>2:0.487437</td>\n",
              "      <td>3:0.180328</td>\n",
              "      <td>4:-0.292929</td>\n",
              "      <td>5:-1</td>\n",
              "      <td>6:0.00149028</td>\n",
              "      <td>7:-0.53117</td>\n",
              "      <td>8:-0.0333333</td>\n",
              "      <td>NaN</td>\n",
              "    </tr>\n",
              "    <tr>\n",
              "      <th>1</th>\n",
              "      <td>1</td>\n",
              "      <td>1:-0.882353</td>\n",
              "      <td>2:-0.145729</td>\n",
              "      <td>3:0.0819672</td>\n",
              "      <td>4:-0.414141</td>\n",
              "      <td>5:-1</td>\n",
              "      <td>6:-0.207153</td>\n",
              "      <td>7:-0.766866</td>\n",
              "      <td>8:-0.666667</td>\n",
              "      <td>NaN</td>\n",
              "    </tr>\n",
              "    <tr>\n",
              "      <th>2</th>\n",
              "      <td>-1</td>\n",
              "      <td>1:-0.0588235</td>\n",
              "      <td>2:0.839196</td>\n",
              "      <td>3:0.0491803</td>\n",
              "      <td>4:-1</td>\n",
              "      <td>5:-1</td>\n",
              "      <td>6:-0.305514</td>\n",
              "      <td>7:-0.492741</td>\n",
              "      <td>8:-0.633333</td>\n",
              "      <td>NaN</td>\n",
              "    </tr>\n",
              "    <tr>\n",
              "      <th>3</th>\n",
              "      <td>1</td>\n",
              "      <td>1:-0.882353</td>\n",
              "      <td>2:-0.105528</td>\n",
              "      <td>3:0.0819672</td>\n",
              "      <td>4:-0.535354</td>\n",
              "      <td>5:-0.777778</td>\n",
              "      <td>6:-0.162444</td>\n",
              "      <td>7:-0.923997</td>\n",
              "      <td>8:-1</td>\n",
              "      <td>NaN</td>\n",
              "    </tr>\n",
              "    <tr>\n",
              "      <th>4</th>\n",
              "      <td>-1</td>\n",
              "      <td>1:-1</td>\n",
              "      <td>2:0.376884</td>\n",
              "      <td>3:-0.344262</td>\n",
              "      <td>4:-0.292929</td>\n",
              "      <td>5:-0.602837</td>\n",
              "      <td>6:0.28465</td>\n",
              "      <td>7:0.887276</td>\n",
              "      <td>8:-0.6</td>\n",
              "      <td>NaN</td>\n",
              "    </tr>\n",
              "  </tbody>\n",
              "</table>\n",
              "</div>\n",
              "    <div class=\"colab-df-buttons\">\n",
              "\n",
              "  <div class=\"colab-df-container\">\n",
              "    <button class=\"colab-df-convert\" onclick=\"convertToInteractive('df-987fe1fc-3d5b-4ddc-8bb2-d66033adb4dd')\"\n",
              "            title=\"Convert this dataframe to an interactive table.\"\n",
              "            style=\"display:none;\">\n",
              "\n",
              "  <svg xmlns=\"http://www.w3.org/2000/svg\" height=\"24px\" viewBox=\"0 -960 960 960\">\n",
              "    <path d=\"M120-120v-720h720v720H120Zm60-500h600v-160H180v160Zm220 220h160v-160H400v160Zm0 220h160v-160H400v160ZM180-400h160v-160H180v160Zm440 0h160v-160H620v160ZM180-180h160v-160H180v160Zm440 0h160v-160H620v160Z\"/>\n",
              "  </svg>\n",
              "    </button>\n",
              "\n",
              "  <style>\n",
              "    .colab-df-container {\n",
              "      display:flex;\n",
              "      gap: 12px;\n",
              "    }\n",
              "\n",
              "    .colab-df-convert {\n",
              "      background-color: #E8F0FE;\n",
              "      border: none;\n",
              "      border-radius: 50%;\n",
              "      cursor: pointer;\n",
              "      display: none;\n",
              "      fill: #1967D2;\n",
              "      height: 32px;\n",
              "      padding: 0 0 0 0;\n",
              "      width: 32px;\n",
              "    }\n",
              "\n",
              "    .colab-df-convert:hover {\n",
              "      background-color: #E2EBFA;\n",
              "      box-shadow: 0px 1px 2px rgba(60, 64, 67, 0.3), 0px 1px 3px 1px rgba(60, 64, 67, 0.15);\n",
              "      fill: #174EA6;\n",
              "    }\n",
              "\n",
              "    .colab-df-buttons div {\n",
              "      margin-bottom: 4px;\n",
              "    }\n",
              "\n",
              "    [theme=dark] .colab-df-convert {\n",
              "      background-color: #3B4455;\n",
              "      fill: #D2E3FC;\n",
              "    }\n",
              "\n",
              "    [theme=dark] .colab-df-convert:hover {\n",
              "      background-color: #434B5C;\n",
              "      box-shadow: 0px 1px 3px 1px rgba(0, 0, 0, 0.15);\n",
              "      filter: drop-shadow(0px 1px 2px rgba(0, 0, 0, 0.3));\n",
              "      fill: #FFFFFF;\n",
              "    }\n",
              "  </style>\n",
              "\n",
              "    <script>\n",
              "      const buttonEl =\n",
              "        document.querySelector('#df-987fe1fc-3d5b-4ddc-8bb2-d66033adb4dd button.colab-df-convert');\n",
              "      buttonEl.style.display =\n",
              "        google.colab.kernel.accessAllowed ? 'block' : 'none';\n",
              "\n",
              "      async function convertToInteractive(key) {\n",
              "        const element = document.querySelector('#df-987fe1fc-3d5b-4ddc-8bb2-d66033adb4dd');\n",
              "        const dataTable =\n",
              "          await google.colab.kernel.invokeFunction('convertToInteractive',\n",
              "                                                    [key], {});\n",
              "        if (!dataTable) return;\n",
              "\n",
              "        const docLinkHtml = 'Like what you see? Visit the ' +\n",
              "          '<a target=\"_blank\" href=https://colab.research.google.com/notebooks/data_table.ipynb>data table notebook</a>'\n",
              "          + ' to learn more about interactive tables.';\n",
              "        element.innerHTML = '';\n",
              "        dataTable['output_type'] = 'display_data';\n",
              "        await google.colab.output.renderOutput(dataTable, element);\n",
              "        const docLink = document.createElement('div');\n",
              "        docLink.innerHTML = docLinkHtml;\n",
              "        element.appendChild(docLink);\n",
              "      }\n",
              "    </script>\n",
              "  </div>\n",
              "\n",
              "\n",
              "<div id=\"df-de794460-86ea-4874-866d-6d83fe942f6f\">\n",
              "  <button class=\"colab-df-quickchart\" onclick=\"quickchart('df-de794460-86ea-4874-866d-6d83fe942f6f')\"\n",
              "            title=\"Suggest charts.\"\n",
              "            style=\"display:none;\">\n",
              "\n",
              "<svg xmlns=\"http://www.w3.org/2000/svg\" height=\"24px\"viewBox=\"0 0 24 24\"\n",
              "     width=\"24px\">\n",
              "    <g>\n",
              "        <path d=\"M19 3H5c-1.1 0-2 .9-2 2v14c0 1.1.9 2 2 2h14c1.1 0 2-.9 2-2V5c0-1.1-.9-2-2-2zM9 17H7v-7h2v7zm4 0h-2V7h2v10zm4 0h-2v-4h2v4z\"/>\n",
              "    </g>\n",
              "</svg>\n",
              "  </button>\n",
              "\n",
              "<style>\n",
              "  .colab-df-quickchart {\n",
              "      --bg-color: #E8F0FE;\n",
              "      --fill-color: #1967D2;\n",
              "      --hover-bg-color: #E2EBFA;\n",
              "      --hover-fill-color: #174EA6;\n",
              "      --disabled-fill-color: #AAA;\n",
              "      --disabled-bg-color: #DDD;\n",
              "  }\n",
              "\n",
              "  [theme=dark] .colab-df-quickchart {\n",
              "      --bg-color: #3B4455;\n",
              "      --fill-color: #D2E3FC;\n",
              "      --hover-bg-color: #434B5C;\n",
              "      --hover-fill-color: #FFFFFF;\n",
              "      --disabled-bg-color: #3B4455;\n",
              "      --disabled-fill-color: #666;\n",
              "  }\n",
              "\n",
              "  .colab-df-quickchart {\n",
              "    background-color: var(--bg-color);\n",
              "    border: none;\n",
              "    border-radius: 50%;\n",
              "    cursor: pointer;\n",
              "    display: none;\n",
              "    fill: var(--fill-color);\n",
              "    height: 32px;\n",
              "    padding: 0;\n",
              "    width: 32px;\n",
              "  }\n",
              "\n",
              "  .colab-df-quickchart:hover {\n",
              "    background-color: var(--hover-bg-color);\n",
              "    box-shadow: 0 1px 2px rgba(60, 64, 67, 0.3), 0 1px 3px 1px rgba(60, 64, 67, 0.15);\n",
              "    fill: var(--button-hover-fill-color);\n",
              "  }\n",
              "\n",
              "  .colab-df-quickchart-complete:disabled,\n",
              "  .colab-df-quickchart-complete:disabled:hover {\n",
              "    background-color: var(--disabled-bg-color);\n",
              "    fill: var(--disabled-fill-color);\n",
              "    box-shadow: none;\n",
              "  }\n",
              "\n",
              "  .colab-df-spinner {\n",
              "    border: 2px solid var(--fill-color);\n",
              "    border-color: transparent;\n",
              "    border-bottom-color: var(--fill-color);\n",
              "    animation:\n",
              "      spin 1s steps(1) infinite;\n",
              "  }\n",
              "\n",
              "  @keyframes spin {\n",
              "    0% {\n",
              "      border-color: transparent;\n",
              "      border-bottom-color: var(--fill-color);\n",
              "      border-left-color: var(--fill-color);\n",
              "    }\n",
              "    20% {\n",
              "      border-color: transparent;\n",
              "      border-left-color: var(--fill-color);\n",
              "      border-top-color: var(--fill-color);\n",
              "    }\n",
              "    30% {\n",
              "      border-color: transparent;\n",
              "      border-left-color: var(--fill-color);\n",
              "      border-top-color: var(--fill-color);\n",
              "      border-right-color: var(--fill-color);\n",
              "    }\n",
              "    40% {\n",
              "      border-color: transparent;\n",
              "      border-right-color: var(--fill-color);\n",
              "      border-top-color: var(--fill-color);\n",
              "    }\n",
              "    60% {\n",
              "      border-color: transparent;\n",
              "      border-right-color: var(--fill-color);\n",
              "    }\n",
              "    80% {\n",
              "      border-color: transparent;\n",
              "      border-right-color: var(--fill-color);\n",
              "      border-bottom-color: var(--fill-color);\n",
              "    }\n",
              "    90% {\n",
              "      border-color: transparent;\n",
              "      border-bottom-color: var(--fill-color);\n",
              "    }\n",
              "  }\n",
              "</style>\n",
              "\n",
              "  <script>\n",
              "    async function quickchart(key) {\n",
              "      const quickchartButtonEl =\n",
              "        document.querySelector('#' + key + ' button');\n",
              "      quickchartButtonEl.disabled = true;  // To prevent multiple clicks.\n",
              "      quickchartButtonEl.classList.add('colab-df-spinner');\n",
              "      try {\n",
              "        const charts = await google.colab.kernel.invokeFunction(\n",
              "            'suggestCharts', [key], {});\n",
              "      } catch (error) {\n",
              "        console.error('Error during call to suggestCharts:', error);\n",
              "      }\n",
              "      quickchartButtonEl.classList.remove('colab-df-spinner');\n",
              "      quickchartButtonEl.classList.add('colab-df-quickchart-complete');\n",
              "    }\n",
              "    (() => {\n",
              "      let quickchartButtonEl =\n",
              "        document.querySelector('#df-de794460-86ea-4874-866d-6d83fe942f6f button');\n",
              "      quickchartButtonEl.style.display =\n",
              "        google.colab.kernel.accessAllowed ? 'block' : 'none';\n",
              "    })();\n",
              "  </script>\n",
              "</div>\n",
              "    </div>\n",
              "  </div>\n"
            ]
          },
          "metadata": {},
          "execution_count": 2
        }
      ],
      "source": [
        "# Setting the URL to fetch the diabetes dataset\n",
        "url = \"https://www.csie.ntu.edu.tw/~cjlin/libsvmtools/datasets/binary/diabetes_scale\"\n",
        "\n",
        "# Reading the dataset from the URL into a pandas DataFrame\n",
        "diabetes_data = pd.read_csv(url, sep=' ', header=None)\n",
        "\n",
        "# Displaying the top rows of the fetched data for a quick overview\n",
        "diabetes_data.head()"
      ]
    },
    {
      "cell_type": "markdown",
      "metadata": {
        "id": "1lA4-Lnz-NrP"
      },
      "source": [
        "#### Data Preprocessing"
      ]
    },
    {
      "cell_type": "code",
      "execution_count": 3,
      "metadata": {
        "id": "9EayL73w1Mdf"
      },
      "outputs": [],
      "source": [
        "# Selecting the first 9 columns from the diabetes dataset\n",
        "diabetes_data = diabetes_data.iloc[:, 0:9]\n",
        "\n",
        "# Renaming the columns for better readability and understanding\n",
        "diabetes_data.columns = [\n",
        "    'Outcome',\n",
        "    'Pregnancies',\n",
        "    'Glucose',\n",
        "    'BloodPressure',\n",
        "    'SkinThickness',\n",
        "    'Insulin',\n",
        "    'BMI',\n",
        "    'DiabetesPedigreeFunction',\n",
        "    'Age'\n",
        "]"
      ]
    },
    {
      "cell_type": "code",
      "execution_count": 4,
      "metadata": {
        "id": "ppu_rMGY0uGB"
      },
      "outputs": [],
      "source": [
        "# Iterate over all columns, excluding the first one (Outcome)\n",
        "for i in diabetes_data.columns[1:]:\n",
        "    # Strip the first two characters from each entry in the current column\n",
        "    diabetes_data[i] = diabetes_data[i].str[2:]\n",
        "\n",
        "# Iterate over all columns again, excluding the first one (Outcome)\n",
        "for i in diabetes_data.columns[1:]:\n",
        "    # Convert the data type of each entry in the current column to float\n",
        "    diabetes_data[i] = diabetes_data[i].astype(float)"
      ]
    },
    {
      "cell_type": "code",
      "execution_count": 5,
      "metadata": {
        "colab": {
          "base_uri": "https://localhost:8080/",
          "height": 424
        },
        "id": "kPUFMAK905TM",
        "outputId": "e8d29071-dc9b-43be-d3f1-9da7f52e5807"
      },
      "outputs": [
        {
          "output_type": "execute_result",
          "data": {
            "text/plain": [
              "     Outcome  Pregnancies   Glucose  BloodPressure  SkinThickness   Insulin  \\\n",
              "0         -1    -0.294118  0.487437       0.180328      -0.292929 -1.000000   \n",
              "1          1    -0.882353 -0.145729       0.081967      -0.414141 -1.000000   \n",
              "2         -1    -0.058824  0.839196       0.049180      -1.000000 -1.000000   \n",
              "3          1    -0.882353 -0.105528       0.081967      -0.535354 -0.777778   \n",
              "4         -1    -1.000000  0.376884      -0.344262      -0.292929 -0.602837   \n",
              "..       ...          ...       ...            ...            ...       ...   \n",
              "763        1     0.176471  0.015075       0.245902      -0.030303 -0.574468   \n",
              "764        1    -0.764706  0.226131       0.147541      -0.454545 -1.000000   \n",
              "765        1    -0.411765  0.216080       0.180328      -0.535354 -0.735225   \n",
              "766       -1    -0.882353  0.266332      -0.016393      -1.000000 -1.000000   \n",
              "767        1    -0.882353 -0.065327       0.147541      -0.373737 -1.000000   \n",
              "\n",
              "          BMI  DiabetesPedigreeFunction       Age  \n",
              "0    0.001490                 -0.531170 -0.033333  \n",
              "1   -0.207153                 -0.766866 -0.666667  \n",
              "2   -0.305514                 -0.492741 -0.633333  \n",
              "3   -0.162444                 -0.923997 -1.000000  \n",
              "4    0.284650                  0.887276 -0.600000  \n",
              "..        ...                       ...       ...  \n",
              "763 -0.019374                 -0.920581  0.400000  \n",
              "764  0.096870                 -0.776260 -0.800000  \n",
              "765 -0.219076                 -0.857387 -0.700000  \n",
              "766 -0.102832                 -0.768574 -0.133333  \n",
              "767 -0.093890                 -0.797609 -0.933333  \n",
              "\n",
              "[768 rows x 9 columns]"
            ],
            "text/html": [
              "\n",
              "  <div id=\"df-dd337b9f-814d-4f1d-963c-62ab15f62e87\" class=\"colab-df-container\">\n",
              "    <div>\n",
              "<style scoped>\n",
              "    .dataframe tbody tr th:only-of-type {\n",
              "        vertical-align: middle;\n",
              "    }\n",
              "\n",
              "    .dataframe tbody tr th {\n",
              "        vertical-align: top;\n",
              "    }\n",
              "\n",
              "    .dataframe thead th {\n",
              "        text-align: right;\n",
              "    }\n",
              "</style>\n",
              "<table border=\"1\" class=\"dataframe\">\n",
              "  <thead>\n",
              "    <tr style=\"text-align: right;\">\n",
              "      <th></th>\n",
              "      <th>Outcome</th>\n",
              "      <th>Pregnancies</th>\n",
              "      <th>Glucose</th>\n",
              "      <th>BloodPressure</th>\n",
              "      <th>SkinThickness</th>\n",
              "      <th>Insulin</th>\n",
              "      <th>BMI</th>\n",
              "      <th>DiabetesPedigreeFunction</th>\n",
              "      <th>Age</th>\n",
              "    </tr>\n",
              "  </thead>\n",
              "  <tbody>\n",
              "    <tr>\n",
              "      <th>0</th>\n",
              "      <td>-1</td>\n",
              "      <td>-0.294118</td>\n",
              "      <td>0.487437</td>\n",
              "      <td>0.180328</td>\n",
              "      <td>-0.292929</td>\n",
              "      <td>-1.000000</td>\n",
              "      <td>0.001490</td>\n",
              "      <td>-0.531170</td>\n",
              "      <td>-0.033333</td>\n",
              "    </tr>\n",
              "    <tr>\n",
              "      <th>1</th>\n",
              "      <td>1</td>\n",
              "      <td>-0.882353</td>\n",
              "      <td>-0.145729</td>\n",
              "      <td>0.081967</td>\n",
              "      <td>-0.414141</td>\n",
              "      <td>-1.000000</td>\n",
              "      <td>-0.207153</td>\n",
              "      <td>-0.766866</td>\n",
              "      <td>-0.666667</td>\n",
              "    </tr>\n",
              "    <tr>\n",
              "      <th>2</th>\n",
              "      <td>-1</td>\n",
              "      <td>-0.058824</td>\n",
              "      <td>0.839196</td>\n",
              "      <td>0.049180</td>\n",
              "      <td>-1.000000</td>\n",
              "      <td>-1.000000</td>\n",
              "      <td>-0.305514</td>\n",
              "      <td>-0.492741</td>\n",
              "      <td>-0.633333</td>\n",
              "    </tr>\n",
              "    <tr>\n",
              "      <th>3</th>\n",
              "      <td>1</td>\n",
              "      <td>-0.882353</td>\n",
              "      <td>-0.105528</td>\n",
              "      <td>0.081967</td>\n",
              "      <td>-0.535354</td>\n",
              "      <td>-0.777778</td>\n",
              "      <td>-0.162444</td>\n",
              "      <td>-0.923997</td>\n",
              "      <td>-1.000000</td>\n",
              "    </tr>\n",
              "    <tr>\n",
              "      <th>4</th>\n",
              "      <td>-1</td>\n",
              "      <td>-1.000000</td>\n",
              "      <td>0.376884</td>\n",
              "      <td>-0.344262</td>\n",
              "      <td>-0.292929</td>\n",
              "      <td>-0.602837</td>\n",
              "      <td>0.284650</td>\n",
              "      <td>0.887276</td>\n",
              "      <td>-0.600000</td>\n",
              "    </tr>\n",
              "    <tr>\n",
              "      <th>...</th>\n",
              "      <td>...</td>\n",
              "      <td>...</td>\n",
              "      <td>...</td>\n",
              "      <td>...</td>\n",
              "      <td>...</td>\n",
              "      <td>...</td>\n",
              "      <td>...</td>\n",
              "      <td>...</td>\n",
              "      <td>...</td>\n",
              "    </tr>\n",
              "    <tr>\n",
              "      <th>763</th>\n",
              "      <td>1</td>\n",
              "      <td>0.176471</td>\n",
              "      <td>0.015075</td>\n",
              "      <td>0.245902</td>\n",
              "      <td>-0.030303</td>\n",
              "      <td>-0.574468</td>\n",
              "      <td>-0.019374</td>\n",
              "      <td>-0.920581</td>\n",
              "      <td>0.400000</td>\n",
              "    </tr>\n",
              "    <tr>\n",
              "      <th>764</th>\n",
              "      <td>1</td>\n",
              "      <td>-0.764706</td>\n",
              "      <td>0.226131</td>\n",
              "      <td>0.147541</td>\n",
              "      <td>-0.454545</td>\n",
              "      <td>-1.000000</td>\n",
              "      <td>0.096870</td>\n",
              "      <td>-0.776260</td>\n",
              "      <td>-0.800000</td>\n",
              "    </tr>\n",
              "    <tr>\n",
              "      <th>765</th>\n",
              "      <td>1</td>\n",
              "      <td>-0.411765</td>\n",
              "      <td>0.216080</td>\n",
              "      <td>0.180328</td>\n",
              "      <td>-0.535354</td>\n",
              "      <td>-0.735225</td>\n",
              "      <td>-0.219076</td>\n",
              "      <td>-0.857387</td>\n",
              "      <td>-0.700000</td>\n",
              "    </tr>\n",
              "    <tr>\n",
              "      <th>766</th>\n",
              "      <td>-1</td>\n",
              "      <td>-0.882353</td>\n",
              "      <td>0.266332</td>\n",
              "      <td>-0.016393</td>\n",
              "      <td>-1.000000</td>\n",
              "      <td>-1.000000</td>\n",
              "      <td>-0.102832</td>\n",
              "      <td>-0.768574</td>\n",
              "      <td>-0.133333</td>\n",
              "    </tr>\n",
              "    <tr>\n",
              "      <th>767</th>\n",
              "      <td>1</td>\n",
              "      <td>-0.882353</td>\n",
              "      <td>-0.065327</td>\n",
              "      <td>0.147541</td>\n",
              "      <td>-0.373737</td>\n",
              "      <td>-1.000000</td>\n",
              "      <td>-0.093890</td>\n",
              "      <td>-0.797609</td>\n",
              "      <td>-0.933333</td>\n",
              "    </tr>\n",
              "  </tbody>\n",
              "</table>\n",
              "<p>768 rows × 9 columns</p>\n",
              "</div>\n",
              "    <div class=\"colab-df-buttons\">\n",
              "\n",
              "  <div class=\"colab-df-container\">\n",
              "    <button class=\"colab-df-convert\" onclick=\"convertToInteractive('df-dd337b9f-814d-4f1d-963c-62ab15f62e87')\"\n",
              "            title=\"Convert this dataframe to an interactive table.\"\n",
              "            style=\"display:none;\">\n",
              "\n",
              "  <svg xmlns=\"http://www.w3.org/2000/svg\" height=\"24px\" viewBox=\"0 -960 960 960\">\n",
              "    <path d=\"M120-120v-720h720v720H120Zm60-500h600v-160H180v160Zm220 220h160v-160H400v160Zm0 220h160v-160H400v160ZM180-400h160v-160H180v160Zm440 0h160v-160H620v160ZM180-180h160v-160H180v160Zm440 0h160v-160H620v160Z\"/>\n",
              "  </svg>\n",
              "    </button>\n",
              "\n",
              "  <style>\n",
              "    .colab-df-container {\n",
              "      display:flex;\n",
              "      gap: 12px;\n",
              "    }\n",
              "\n",
              "    .colab-df-convert {\n",
              "      background-color: #E8F0FE;\n",
              "      border: none;\n",
              "      border-radius: 50%;\n",
              "      cursor: pointer;\n",
              "      display: none;\n",
              "      fill: #1967D2;\n",
              "      height: 32px;\n",
              "      padding: 0 0 0 0;\n",
              "      width: 32px;\n",
              "    }\n",
              "\n",
              "    .colab-df-convert:hover {\n",
              "      background-color: #E2EBFA;\n",
              "      box-shadow: 0px 1px 2px rgba(60, 64, 67, 0.3), 0px 1px 3px 1px rgba(60, 64, 67, 0.15);\n",
              "      fill: #174EA6;\n",
              "    }\n",
              "\n",
              "    .colab-df-buttons div {\n",
              "      margin-bottom: 4px;\n",
              "    }\n",
              "\n",
              "    [theme=dark] .colab-df-convert {\n",
              "      background-color: #3B4455;\n",
              "      fill: #D2E3FC;\n",
              "    }\n",
              "\n",
              "    [theme=dark] .colab-df-convert:hover {\n",
              "      background-color: #434B5C;\n",
              "      box-shadow: 0px 1px 3px 1px rgba(0, 0, 0, 0.15);\n",
              "      filter: drop-shadow(0px 1px 2px rgba(0, 0, 0, 0.3));\n",
              "      fill: #FFFFFF;\n",
              "    }\n",
              "  </style>\n",
              "\n",
              "    <script>\n",
              "      const buttonEl =\n",
              "        document.querySelector('#df-dd337b9f-814d-4f1d-963c-62ab15f62e87 button.colab-df-convert');\n",
              "      buttonEl.style.display =\n",
              "        google.colab.kernel.accessAllowed ? 'block' : 'none';\n",
              "\n",
              "      async function convertToInteractive(key) {\n",
              "        const element = document.querySelector('#df-dd337b9f-814d-4f1d-963c-62ab15f62e87');\n",
              "        const dataTable =\n",
              "          await google.colab.kernel.invokeFunction('convertToInteractive',\n",
              "                                                    [key], {});\n",
              "        if (!dataTable) return;\n",
              "\n",
              "        const docLinkHtml = 'Like what you see? Visit the ' +\n",
              "          '<a target=\"_blank\" href=https://colab.research.google.com/notebooks/data_table.ipynb>data table notebook</a>'\n",
              "          + ' to learn more about interactive tables.';\n",
              "        element.innerHTML = '';\n",
              "        dataTable['output_type'] = 'display_data';\n",
              "        await google.colab.output.renderOutput(dataTable, element);\n",
              "        const docLink = document.createElement('div');\n",
              "        docLink.innerHTML = docLinkHtml;\n",
              "        element.appendChild(docLink);\n",
              "      }\n",
              "    </script>\n",
              "  </div>\n",
              "\n",
              "\n",
              "<div id=\"df-941ccd3b-8d81-431e-b598-5345dab603b7\">\n",
              "  <button class=\"colab-df-quickchart\" onclick=\"quickchart('df-941ccd3b-8d81-431e-b598-5345dab603b7')\"\n",
              "            title=\"Suggest charts.\"\n",
              "            style=\"display:none;\">\n",
              "\n",
              "<svg xmlns=\"http://www.w3.org/2000/svg\" height=\"24px\"viewBox=\"0 0 24 24\"\n",
              "     width=\"24px\">\n",
              "    <g>\n",
              "        <path d=\"M19 3H5c-1.1 0-2 .9-2 2v14c0 1.1.9 2 2 2h14c1.1 0 2-.9 2-2V5c0-1.1-.9-2-2-2zM9 17H7v-7h2v7zm4 0h-2V7h2v10zm4 0h-2v-4h2v4z\"/>\n",
              "    </g>\n",
              "</svg>\n",
              "  </button>\n",
              "\n",
              "<style>\n",
              "  .colab-df-quickchart {\n",
              "      --bg-color: #E8F0FE;\n",
              "      --fill-color: #1967D2;\n",
              "      --hover-bg-color: #E2EBFA;\n",
              "      --hover-fill-color: #174EA6;\n",
              "      --disabled-fill-color: #AAA;\n",
              "      --disabled-bg-color: #DDD;\n",
              "  }\n",
              "\n",
              "  [theme=dark] .colab-df-quickchart {\n",
              "      --bg-color: #3B4455;\n",
              "      --fill-color: #D2E3FC;\n",
              "      --hover-bg-color: #434B5C;\n",
              "      --hover-fill-color: #FFFFFF;\n",
              "      --disabled-bg-color: #3B4455;\n",
              "      --disabled-fill-color: #666;\n",
              "  }\n",
              "\n",
              "  .colab-df-quickchart {\n",
              "    background-color: var(--bg-color);\n",
              "    border: none;\n",
              "    border-radius: 50%;\n",
              "    cursor: pointer;\n",
              "    display: none;\n",
              "    fill: var(--fill-color);\n",
              "    height: 32px;\n",
              "    padding: 0;\n",
              "    width: 32px;\n",
              "  }\n",
              "\n",
              "  .colab-df-quickchart:hover {\n",
              "    background-color: var(--hover-bg-color);\n",
              "    box-shadow: 0 1px 2px rgba(60, 64, 67, 0.3), 0 1px 3px 1px rgba(60, 64, 67, 0.15);\n",
              "    fill: var(--button-hover-fill-color);\n",
              "  }\n",
              "\n",
              "  .colab-df-quickchart-complete:disabled,\n",
              "  .colab-df-quickchart-complete:disabled:hover {\n",
              "    background-color: var(--disabled-bg-color);\n",
              "    fill: var(--disabled-fill-color);\n",
              "    box-shadow: none;\n",
              "  }\n",
              "\n",
              "  .colab-df-spinner {\n",
              "    border: 2px solid var(--fill-color);\n",
              "    border-color: transparent;\n",
              "    border-bottom-color: var(--fill-color);\n",
              "    animation:\n",
              "      spin 1s steps(1) infinite;\n",
              "  }\n",
              "\n",
              "  @keyframes spin {\n",
              "    0% {\n",
              "      border-color: transparent;\n",
              "      border-bottom-color: var(--fill-color);\n",
              "      border-left-color: var(--fill-color);\n",
              "    }\n",
              "    20% {\n",
              "      border-color: transparent;\n",
              "      border-left-color: var(--fill-color);\n",
              "      border-top-color: var(--fill-color);\n",
              "    }\n",
              "    30% {\n",
              "      border-color: transparent;\n",
              "      border-left-color: var(--fill-color);\n",
              "      border-top-color: var(--fill-color);\n",
              "      border-right-color: var(--fill-color);\n",
              "    }\n",
              "    40% {\n",
              "      border-color: transparent;\n",
              "      border-right-color: var(--fill-color);\n",
              "      border-top-color: var(--fill-color);\n",
              "    }\n",
              "    60% {\n",
              "      border-color: transparent;\n",
              "      border-right-color: var(--fill-color);\n",
              "    }\n",
              "    80% {\n",
              "      border-color: transparent;\n",
              "      border-right-color: var(--fill-color);\n",
              "      border-bottom-color: var(--fill-color);\n",
              "    }\n",
              "    90% {\n",
              "      border-color: transparent;\n",
              "      border-bottom-color: var(--fill-color);\n",
              "    }\n",
              "  }\n",
              "</style>\n",
              "\n",
              "  <script>\n",
              "    async function quickchart(key) {\n",
              "      const quickchartButtonEl =\n",
              "        document.querySelector('#' + key + ' button');\n",
              "      quickchartButtonEl.disabled = true;  // To prevent multiple clicks.\n",
              "      quickchartButtonEl.classList.add('colab-df-spinner');\n",
              "      try {\n",
              "        const charts = await google.colab.kernel.invokeFunction(\n",
              "            'suggestCharts', [key], {});\n",
              "      } catch (error) {\n",
              "        console.error('Error during call to suggestCharts:', error);\n",
              "      }\n",
              "      quickchartButtonEl.classList.remove('colab-df-spinner');\n",
              "      quickchartButtonEl.classList.add('colab-df-quickchart-complete');\n",
              "    }\n",
              "    (() => {\n",
              "      let quickchartButtonEl =\n",
              "        document.querySelector('#df-941ccd3b-8d81-431e-b598-5345dab603b7 button');\n",
              "      quickchartButtonEl.style.display =\n",
              "        google.colab.kernel.accessAllowed ? 'block' : 'none';\n",
              "    })();\n",
              "  </script>\n",
              "</div>\n",
              "    </div>\n",
              "  </div>\n"
            ]
          },
          "metadata": {},
          "execution_count": 5
        }
      ],
      "source": [
        "# Verifying the data after data cleaning\n",
        "diabetes_data"
      ]
    },
    {
      "cell_type": "code",
      "execution_count": 6,
      "metadata": {
        "colab": {
          "base_uri": "https://localhost:8080/"
        },
        "id": "LZ6ugvpAm81G",
        "outputId": "7017be78-30cd-492d-bcb9-7ab40ed29d3d"
      },
      "outputs": [
        {
          "output_type": "stream",
          "name": "stdout",
          "text": [
            "<class 'pandas.core.frame.DataFrame'>\n",
            "RangeIndex: 768 entries, 0 to 767\n",
            "Data columns (total 9 columns):\n",
            " #   Column                    Non-Null Count  Dtype  \n",
            "---  ------                    --------------  -----  \n",
            " 0   Outcome                   768 non-null    int64  \n",
            " 1   Pregnancies               768 non-null    float64\n",
            " 2   Glucose                   768 non-null    float64\n",
            " 3   BloodPressure             768 non-null    float64\n",
            " 4   SkinThickness             768 non-null    float64\n",
            " 5   Insulin                   768 non-null    float64\n",
            " 6   BMI                       768 non-null    float64\n",
            " 7   DiabetesPedigreeFunction  768 non-null    float64\n",
            " 8   Age                       759 non-null    float64\n",
            "dtypes: float64(8), int64(1)\n",
            "memory usage: 54.1 KB\n"
          ]
        }
      ],
      "source": [
        "# Concise summary of diabetes_data\n",
        "diabetes_data.info()"
      ]
    },
    {
      "cell_type": "code",
      "source": [
        "# Remove rows in the diabetes_data dataframe where the 'Age' column has missing (NaN) values.\n",
        "# The 'inplace=True' argument modifies the original dataframe without returning a new one.\n",
        "diabetes_data.dropna(subset=['Age'], inplace=True)"
      ],
      "metadata": {
        "id": "THlVLDV9Vf2e"
      },
      "execution_count": 7,
      "outputs": []
    },
    {
      "cell_type": "markdown",
      "metadata": {
        "id": "PdrNoNfS_eHz"
      },
      "source": [
        "##### Observation:\n",
        "Age has 9 missing values so we decide to remove these 9 null values as it's a small proportion in the total dataset."
      ]
    },
    {
      "cell_type": "code",
      "execution_count": 8,
      "metadata": {
        "id": "_-u0Jh3IUW9s"
      },
      "outputs": [],
      "source": [
        "# Replace -1 with 0 for easy understanding which represents patients with no diabetes\n",
        "diabetes_data['Outcome'] = diabetes_data['Outcome'].replace({-1: 0})"
      ]
    },
    {
      "cell_type": "markdown",
      "metadata": {
        "id": "1ntdHBLUThgP"
      },
      "source": [
        "#### Split Data"
      ]
    },
    {
      "cell_type": "code",
      "execution_count": 9,
      "metadata": {
        "id": "fqI6t2gnTgOT"
      },
      "outputs": [],
      "source": [
        "from sklearn.model_selection import train_test_split\n",
        "\n",
        "# Splitting the data into a training set (bigtrain_set) and a test set.\n",
        "# - test_size = 0.2 reserves 20% of the data for the test set.\n",
        "# - stratify = diabetes_data['Outcome'] ensures that the same proportion of outcomes is preserved in both train and test sets.\n",
        "# - random_state = 0 is used for reproducibility of the exact same train/test split.\n",
        "bigtrain_set, test_set = train_test_split(diabetes_data, test_size=0.2, stratify=diabetes_data['Outcome'], random_state=0)\n",
        "\n",
        "# Extracting the features (X) and target variable (y) from the bigtrain_set.\n",
        "X_train = bigtrain_set.drop('Outcome', axis=1)\n",
        "y_train = bigtrain_set['Outcome']\n",
        "\n",
        "# Extracting the features (X) and target variable (y) from the test_set. This will be used for model evaluation later.\n",
        "X_test = test_set.drop('Outcome', axis=1)\n",
        "y_test = test_set['Outcome']"
      ]
    },
    {
      "cell_type": "markdown",
      "metadata": {
        "id": "_wDIoRE2_-tC"
      },
      "source": [
        "##### Reason for Data Splitting before doing EDA:\n",
        "Splitting a dataset before EDA helps to prevent data leakage, ensuring that insights and decisions made during EDA do not unintentionally bias the midelling process by using knowledge from the test set."
      ]
    },
    {
      "cell_type": "markdown",
      "metadata": {
        "id": "U_FUsXY6Vi2I"
      },
      "source": [
        "##### Summary of Dataset Split: Number of Samples and Label Distribution"
      ]
    },
    {
      "cell_type": "code",
      "execution_count": 10,
      "metadata": {
        "colab": {
          "base_uri": "https://localhost:8080/"
        },
        "id": "NrmamBX1VbJ9",
        "outputId": "440b430c-1923-4bcb-c011-4320120fd7c5"
      },
      "outputs": [
        {
          "output_type": "stream",
          "name": "stdout",
          "text": [
            "Number of samples in training set: 607\n",
            "Number of samples in test set: 152\n",
            "\n",
            "Label distribution in training set:\n",
            " 1    0.654\n",
            "0    0.346\n",
            "Name: Outcome, dtype: float64\n",
            "\n",
            "Label distribution in test set:\n",
            " 1    0.651\n",
            "0    0.349\n",
            "Name: Outcome, dtype: float64\n"
          ]
        }
      ],
      "source": [
        "# Display the number of samples in each dataset\n",
        "print(\"Number of samples in training set:\", X_train.shape[0])\n",
        "#print(\"Number of samples in validation set:\", X_val.shape[0])\n",
        "print(\"Number of samples in test set:\", X_test.shape[0])\n",
        "print()\n",
        "\n",
        "# Display the distribution of labels in each dataset\n",
        "print(\"Label distribution in training set:\\n\", y_train.value_counts(normalize=True).round(3))\n",
        "print()\n",
        "# print(\"Label distribution in validation set:\\n\", y_val.value_counts(normalize=True).round(3))\n",
        "# print()\n",
        "print(\"Label distribution in test set:\\n\", y_test.value_counts(normalize=True).round(3))"
      ]
    },
    {
      "cell_type": "markdown",
      "metadata": {
        "id": "Uo7TER3obK-c"
      },
      "source": [
        "##### Observations:\n",
        "\n",
        "As dataset is imbalanced so we consider balanced accuracy instead of accuracy.\n"
      ]
    },
    {
      "cell_type": "markdown",
      "metadata": {
        "id": "eQogy-Wh5MAQ"
      },
      "source": [
        "#### Exploratory Data Analysis(EDA)"
      ]
    },
    {
      "cell_type": "code",
      "execution_count": 11,
      "metadata": {
        "colab": {
          "base_uri": "https://localhost:8080/",
          "height": 446
        },
        "id": "oHVo4aYwGVFh",
        "outputId": "b6eaa5bd-2513-4862-da99-acb73c2626a6"
      },
      "outputs": [
        {
          "output_type": "display_data",
          "data": {
            "text/plain": [
              "<Figure size 500x700 with 1 Axes>"
            ],
            "image/png": "[encoded data removed]"
          },
          "metadata": {}
        }
      ],
      "source": [
        "import matplotlib.pyplot as plt\n",
        "\n",
        "# Extract the frequency counts for the 'Outcome' column in the training set\n",
        "outcome_counts = y_train.value_counts()\n",
        "\n",
        "# Initialize a plot of specified size\n",
        "plt.figure(figsize=(5, 7))\n",
        "\n",
        "# Create a pie chart of the outcome distribution with percentage labels\n",
        "outcome_counts.plot.pie(autopct=\"%.1f%%\")\n",
        "\n",
        "# Set the title for the pie chart\n",
        "plt.title('Distribution of Outcome Variable in Pima Indian Diabetes Trained Dataset')\n",
        "\n",
        "# Remove the redundant y-label, as the information is implicit in a pie chart\n",
        "plt.ylabel('')\n",
        "\n",
        "# Display the pie chart\n",
        "plt.show()\n"
      ]
    },
    {
      "cell_type": "markdown",
      "metadata": {
        "id": "YvB1R81G55hu"
      },
      "source": [
        "##### Distribution of Features in the Pima Indians Diabetes Dataset"
      ]
    },
    {
      "cell_type": "code",
      "execution_count": 12,
      "metadata": {
        "colab": {
          "base_uri": "https://localhost:8080/",
          "height": 930
        },
        "id": "8tjdIwKfML2d",
        "outputId": "ffba4a73-4658-4c34-e6f7-07904631b312"
      },
      "outputs": [
        {
          "output_type": "display_data",
          "data": {
            "text/plain": [
              "<Figure size 1500x1000 with 9 Axes>"
            ],
            "image/png": "[encoded data removed]"
          },
          "metadata": {}
        }
      ],
      "source": [
        "X_train.hist(figsize=(15, 10), bins=50)\n",
        "plt.suptitle(\"Histograms for Each Column in Pima Indians Diabetes Dataset\")\n",
        "plt.show()"
      ]
    },
    {
      "cell_type": "markdown",
      "metadata": {
        "id": "32fcGKwLBet5"
      },
      "source": [
        "##### Observations:\n",
        "1. Age and DiabetesPedigreeFunction exhibit right-skewed distributions based on histogram analysis.\n",
        "\n",
        "2. Blood pressure and BMI have outliers with values of -1, with 30 instances of outliers in Blood pressure and 10 in BMI.\n",
        "\n",
        "3. Glucose has outliers with values of -1, affecting 5 data points."
      ]
    },
    {
      "cell_type": "code",
      "execution_count": 13,
      "metadata": {
        "colab": {
          "base_uri": "https://localhost:8080/",
          "height": 1000
        },
        "id": "lE1wBnjyBRT4",
        "outputId": "70131e42-4060-44dd-de32-f0132dab3036"
      },
      "outputs": [
        {
          "output_type": "display_data",
          "data": {
            "text/plain": [
              "<Figure size 1000x600 with 1 Axes>"
            ],
            "image/png": "[encoded data removed]"
          },
          "metadata": {}
        },
        {
          "output_type": "display_data",
          "data": {
            "text/plain": [
              "<Figure size 1000x600 with 1 Axes>"
            ],
            "image/png": "[encoded data removed]"
          },
          "metadata": {}
        },
        {
          "output_type": "display_data",
          "data": {
            "text/plain": [
              "<Figure size 1000x600 with 1 Axes>"
            ],
            "image/png": "[encoded data removed]"
          },
          "metadata": {}
        },
        {
          "output_type": "display_data",
          "data": {
            "text/plain": [
              "<Figure size 1000x600 with 1 Axes>"
            ],
            "image/png": "[encoded data removed]"
          },
          "metadata": {}
        },
        {
          "output_type": "display_data",
          "data": {
            "text/plain": [
              "<Figure size 1000x600 with 1 Axes>"
            ],
            "image/png": "[encoded data removed]"
          },
          "metadata": {}
        },
        {
          "output_type": "display_data",
          "data": {
            "text/plain": [
              "<Figure size 1000x600 with 1 Axes>"
            ],
            "image/png": "[encoded data removed]"
          },
          "metadata": {}
        },
        {
          "output_type": "display_data",
          "data": {
            "text/plain": [
              "<Figure size 1000x600 with 1 Axes>"
            ],
            "image/png": "[encoded data removed]"
          },
          "metadata": {}
        },
        {
          "output_type": "display_data",
          "data": {
            "text/plain": [
              "<Figure size 1000x600 with 1 Axes>"
            ],
            "image/png": "[encoded data removed]"
          },
          "metadata": {}
        }
      ],
      "source": [
        "import matplotlib.pyplot as plt\n",
        "import seaborn as sns\n",
        "\n",
        "# Loop through each column in the dataframe\n",
        "for column in diabetes_data.columns[1:]:\n",
        "\n",
        "    # Initialize a new figure for each column\n",
        "    plt.figure(figsize=(10, 6))\n",
        "\n",
        "    # Create a box plot for the current column\n",
        "    sns.boxplot(y=diabetes_data[column])\n",
        "\n",
        "    # Set title for the plot\n",
        "    plt.title(f'Box plot for {column}')\n",
        "\n",
        "    # Display the plot\n",
        "    plt.show()"
      ]
    },
    {
      "cell_type": "markdown",
      "metadata": {
        "id": "d8xZbiZfBeFi"
      },
      "source": [
        "#### Observations:\n",
        "Outliers that we have guessed from the histogram are confirmed. Although, there are other outliers we are not removing them since removing those outliers impacts the training and test accuracy."
      ]
    },
    {
      "cell_type": "markdown",
      "metadata": {
        "id": "IuxrtBdhExr7"
      },
      "source": [
        "##### Approaches based on Box-plot and Histogram:\n",
        "1. BMI, Glucose has outlier at -1 and of 5-10 values so we replace those with either median values or remove rows but I am replacing with median values.\n",
        "\n"
      ]
    },
    {
      "cell_type": "code",
      "execution_count": 14,
      "metadata": {
        "id": "3F4d1pPYGjy4"
      },
      "outputs": [],
      "source": [
        "cols_to_replace_median = ['BMI', 'Glucose', 'BloodPressure']\n",
        "\n",
        "for col in cols_to_replace_median:\n",
        "    median = X_train[col][X_train[col] != -1].median()  # Calculate median excluding -1 values\n",
        "    X_train[col] = X_train[col].replace(-1, median)"
      ]
    },
    {
      "cell_type": "code",
      "execution_count": 15,
      "metadata": {
        "colab": {
          "base_uri": "https://localhost:8080/"
        },
        "id": "If14KFxtHwGg",
        "outputId": "91c6a671-a559-45dd-88c8-a45a073f7762"
      },
      "outputs": [
        {
          "output_type": "stream",
          "name": "stdout",
          "text": [
            "<class 'pandas.core.frame.DataFrame'>\n",
            "Int64Index: 607 entries, 164 to 126\n",
            "Data columns (total 8 columns):\n",
            " #   Column                    Non-Null Count  Dtype  \n",
            "---  ------                    --------------  -----  \n",
            " 0   Pregnancies               607 non-null    float64\n",
            " 1   Glucose                   607 non-null    float64\n",
            " 2   BloodPressure             607 non-null    float64\n",
            " 3   SkinThickness             607 non-null    float64\n",
            " 4   Insulin                   607 non-null    float64\n",
            " 5   BMI                       607 non-null    float64\n",
            " 6   DiabetesPedigreeFunction  607 non-null    float64\n",
            " 7   Age                       607 non-null    float64\n",
            "dtypes: float64(8)\n",
            "memory usage: 42.7 KB\n"
          ]
        }
      ],
      "source": [
        "X_train.info()"
      ]
    },
    {
      "cell_type": "markdown",
      "metadata": {
        "id": "DubN_xk1Z7Uy"
      },
      "source": [
        "#### Ranking Features by Correlation with Diabetes Outcome in PIMA Dataset"
      ]
    },
    {
      "cell_type": "code",
      "execution_count": 16,
      "metadata": {
        "colab": {
          "base_uri": "https://localhost:8080/"
        },
        "id": "N25ejosEZx3q",
        "outputId": "a90cd12d-7035-41ef-e7da-d2a37cdc9c4c"
      },
      "outputs": [
        {
          "output_type": "stream",
          "name": "stdout",
          "text": [
            "Correlation of Features with the 'Outcome' Variable in PIMA Dataset:\n",
            "----------------------------------------------------------------------\n",
            "Outcome                     1.000000\n",
            "SkinThickness              -0.047106\n",
            "Insulin                    -0.119558\n",
            "BloodPressure              -0.150071\n",
            "DiabetesPedigreeFunction   -0.168979\n",
            "Pregnancies                -0.246734\n",
            "Age                        -0.270593\n",
            "BMI                        -0.276801\n",
            "Glucose                    -0.501839\n",
            "Name: Outcome, dtype: float64\n"
          ]
        }
      ],
      "source": [
        "# Combine the features and target to create a temporary training dataset\n",
        "temp_train_data = X_train.copy()\n",
        "temp_train_data['Outcome'] = y_train\n",
        "\n",
        "# Calculate the correlation matrix\n",
        "correlation_matrix = temp_train_data.corr()\n",
        "\n",
        "# Extract correlations with the 'Outcome' column and sort them\n",
        "correlations_with_target = correlation_matrix['Outcome'].sort_values(ascending=False)\n",
        "\n",
        "# Print a message to indicate the purpose of the following output\n",
        "print(\"Correlation of Features with the 'Outcome' Variable in PIMA Dataset:\")\n",
        "print(\"----------------------------------------------------------------------\")\n",
        "print(correlations_with_target)"
      ]
    },
    {
      "cell_type": "markdown",
      "metadata": {
        "id": "9hSKRv6xaMoM"
      },
      "source": [
        "#### Function to calculate Metrics"
      ]
    },
    {
      "cell_type": "code",
      "execution_count": 17,
      "metadata": {
        "id": "kgtHYaz0IjVX"
      },
      "outputs": [],
      "source": [
        "def evaluate_model(model_name, model, X, y, dataset_name=\"Test\"):\n",
        "    \"\"\"\n",
        "    Evaluates a trained model using test data and displays metrics.\n",
        "\n",
        "    Parameters:\n",
        "    - model_name: Name/identifier of the model being used\n",
        "    - model: Trained model\n",
        "    - X, y: Data and labels\n",
        "    - dataset_name: Name of the dataset being evaluated (default is \"Test\")\n",
        "\n",
        "    Returns:\n",
        "    - Dictionary of Balanced Accuracy, F1 Score, AUC, and ROC Curve Data\n",
        "    \"\"\"\n",
        "    # Predictions\n",
        "    y_pred = model.predict(X)\n",
        "\n",
        "    if model_name == 'Baseline Perceptron' or model_name == 'Optimized Perceptron':\n",
        "        y_pred_prob = model.decision_function(X)\n",
        "    else:\n",
        "        y_pred_prob = model.predict_proba(X)[:, 1]  # get the probability of the positive class\n",
        "\n",
        "    # Compute metrics\n",
        "    b_accuracy = balanced_accuracy_score(y, y_pred)\n",
        "    f1 = f1_score(y, y_pred)\n",
        "    auc = roc_auc_score(y, y_pred_prob)\n",
        "\n",
        "    # Get ROC Curve data\n",
        "    fpr, tpr, thresholds = roc_curve(y, y_pred_prob)\n",
        "\n",
        "    print(f\"{model_name} Metrics for {dataset_name} data:\")\n",
        "    print(f\"Balanced Accuracy: {b_accuracy:.2f}\")\n",
        "    print(f\"f1_score: {f1:.2f}\")\n",
        "    print(f\"AUC: {auc:.2f}\")\n",
        "\n",
        "    # Return metrics and ROC Curve data in dictionary\n",
        "    return {\n",
        "        \"Balanced Accuracy\": \"{:.2f}\".format(b_accuracy),\n",
        "        \"f1_score\": \"{:.2f}\".format(f1),\n",
        "        \"AUC\": \"{:.2f}\".format(auc),\n",
        "    }\n",
        ""
      ]
    },
    {
      "cell_type": "markdown",
      "metadata": {
        "id": "CZVBoTUbd2vH"
      },
      "source": [
        "#### Baseline Perceptron"
      ]
    },
    {
      "cell_type": "code",
      "execution_count": 18,
      "metadata": {
        "colab": {
          "base_uri": "https://localhost:8080/",
          "height": 75
        },
        "id": "kurHnd_jbBr9",
        "outputId": "bf0d2d9f-a5b3-4145-9286-1fa6486a50dc"
      },
      "outputs": [
        {
          "output_type": "execute_result",
          "data": {
            "text/plain": [
              "Perceptron()"
            ],
            "text/html": [
              "<style>#sk-container-id-1 {color: black;background-color: white;}#sk-container-id-1 pre{padding: 0;}#sk-container-id-1 div.sk-toggleable {background-color: white;}#sk-container-id-1 label.sk-toggleable__label {cursor: pointer;display: block;width: 100%;margin-bottom: 0;padding: 0.3em;box-sizing: border-box;text-align: center;}#sk-container-id-1 label.sk-toggleable__label-arrow:before {content: \"▸\";float: left;margin-right: 0.25em;color: #696969;}#sk-container-id-1 label.sk-toggleable__label-arrow:hover:before {color: black;}#sk-container-id-1 div.sk-estimator:hover label.sk-toggleable__label-arrow:before {color: black;}#sk-container-id-1 div.sk-toggleable__content {max-height: 0;max-width: 0;overflow: hidden;text-align: left;background-color: #f0f8ff;}#sk-container-id-1 div.sk-toggleable__content pre {margin: 0.2em;color: black;border-radius: 0.25em;background-color: #f0f8ff;}#sk-container-id-1 input.sk-toggleable__control:checked~div.sk-toggleable__content {max-height: 200px;max-width: 100%;overflow: auto;}#sk-container-id-1 input.sk-toggleable__control:checked~label.sk-toggleable__label-arrow:before {content: \"▾\";}#sk-container-id-1 div.sk-estimator input.sk-toggleable__control:checked~label.sk-toggleable__label {background-color: #d4ebff;}#sk-container-id-1 div.sk-label input.sk-toggleable__control:checked~label.sk-toggleable__label {background-color: #d4ebff;}#sk-container-id-1 input.sk-hidden--visually {border: 0;clip: rect(1px 1px 1px 1px);clip: rect(1px, 1px, 1px, 1px);height: 1px;margin: -1px;overflow: hidden;padding: 0;position: absolute;width: 1px;}#sk-container-id-1 div.sk-estimator {font-family: monospace;background-color: #f0f8ff;border: 1px dotted black;border-radius: 0.25em;box-sizing: border-box;margin-bottom: 0.5em;}#sk-container-id-1 div.sk-estimator:hover {background-color: #d4ebff;}#sk-container-id-1 div.sk-parallel-item::after {content: \"\";width: 100%;border-bottom: 1px solid gray;flex-grow: 1;}#sk-container-id-1 div.sk-label:hover label.sk-toggleable__label {background-color: #d4ebff;}#sk-container-id-1 div.sk-serial::before {content: \"\";position: absolute;border-left: 1px solid gray;box-sizing: border-box;top: 0;bottom: 0;left: 50%;z-index: 0;}#sk-container-id-1 div.sk-serial {display: flex;flex-direction: column;align-items: center;background-color: white;padding-right: 0.2em;padding-left: 0.2em;position: relative;}#sk-container-id-1 div.sk-item {position: relative;z-index: 1;}#sk-container-id-1 div.sk-parallel {display: flex;align-items: stretch;justify-content: center;background-color: white;position: relative;}#sk-container-id-1 div.sk-item::before, #sk-container-id-1 div.sk-parallel-item::before {content: \"\";position: absolute;border-left: 1px solid gray;box-sizing: border-box;top: 0;bottom: 0;left: 50%;z-index: -1;}#sk-container-id-1 div.sk-parallel-item {display: flex;flex-direction: column;z-index: 1;position: relative;background-color: white;}#sk-container-id-1 div.sk-parallel-item:first-child::after {align-self: flex-end;width: 50%;}#sk-container-id-1 div.sk-parallel-item:last-child::after {align-self: flex-start;width: 50%;}#sk-container-id-1 div.sk-parallel-item:only-child::after {width: 0;}#sk-container-id-1 div.sk-dashed-wrapped {border: 1px dashed gray;margin: 0 0.4em 0.5em 0.4em;box-sizing: border-box;padding-bottom: 0.4em;background-color: white;}#sk-container-id-1 div.sk-label label {font-family: monospace;font-weight: bold;display: inline-block;line-height: 1.2em;}#sk-container-id-1 div.sk-label-container {text-align: center;}#sk-container-id-1 div.sk-container {/* jupyter's `normalize.less` sets `[hidden] { display: none; }` but bootstrap.min.css set `[hidden] { display: none !important; }` so we also need the `!important` here to be able to override the default hidden behavior on the sphinx rendered scikit-learn.org. See: https://github.com/scikit-learn/scikit-learn/issues/21755 */display: inline-block !important;position: relative;}#sk-container-id-1 div.sk-text-repr-fallback {display: none;}</style><div id=\"sk-container-id-1\" class=\"sk-top-container\"><div class=\"sk-text-repr-fallback\"><pre>Perceptron()</pre><b>In a Jupyter environment, please rerun this cell to show the HTML representation or trust the notebook. <br />On GitHub, the HTML representation is unable to render, please try loading this page with nbviewer.org.</b></div><div class=\"sk-container\" hidden><div class=\"sk-item\"><div class=\"sk-estimator sk-toggleable\"><input class=\"sk-toggleable__control sk-hidden--visually\" id=\"sk-estimator-id-1\" type=\"checkbox\" checked><label for=\"sk-estimator-id-1\" class=\"sk-toggleable__label sk-toggleable__label-arrow\">Perceptron</label><div class=\"sk-toggleable__content\"><pre>Perceptron()</pre></div></div></div></div></div>"
            ]
          },
          "metadata": {},
          "execution_count": 18
        }
      ],
      "source": [
        "# Create a Perceptron instance\n",
        "ppn = Perceptron()\n",
        "\n",
        "# Fit the Perceptron to your training data\n",
        "ppn.fit(X_train, y_train)"
      ]
    },
    {
      "cell_type": "markdown",
      "metadata": {
        "id": "1oMUpmBdBUC2"
      },
      "source": []
    },
    {
      "cell_type": "markdown",
      "metadata": {
        "id": "0CCTe1QMKKjt"
      },
      "source": [
        "#### Training Metric Evaluation for Baseline Perceptron:"
      ]
    },
    {
      "cell_type": "code",
      "execution_count": 19,
      "metadata": {
        "colab": {
          "base_uri": "https://localhost:8080/"
        },
        "id": "ZRP7MY5KKLzg",
        "outputId": "462fae84-e58a-4714-bce5-61063d1034ba"
      },
      "outputs": [
        {
          "output_type": "stream",
          "name": "stdout",
          "text": [
            "Baseline Perceptron Metrics for Train data:\n",
            "Balanced Accuracy: 0.73\n",
            "f1_score: 0.84\n",
            "AUC: 0.83\n"
          ]
        },
        {
          "output_type": "execute_result",
          "data": {
            "text/plain": [
              "{'Balanced Accuracy': '0.73', 'f1_score': '0.84', 'AUC': '0.83'}"
            ]
          },
          "metadata": {},
          "execution_count": 19
        }
      ],
      "source": [
        "# Evaluate the Baseline Perceptron model on the training data\n",
        "ppn_train_metrics = evaluate_model('Baseline Perceptron', ppn, X_train, y_train, dataset_name=\"Train\")\n",
        "\n",
        "# Display the evaluation metrics for the training data\n",
        "ppn_train_metrics"
      ]
    },
    {
      "cell_type": "markdown",
      "metadata": {
        "id": "DANOPgHyKaUh"
      },
      "source": [
        "#### Test Metric Evaluation for Baseline Perceptron:"
      ]
    },
    {
      "cell_type": "code",
      "execution_count": 20,
      "metadata": {
        "colab": {
          "base_uri": "https://localhost:8080/"
        },
        "id": "OAocaBElKaqo",
        "outputId": "60c247ca-b790-4dc4-f33c-ab1afbcb81b1"
      },
      "outputs": [
        {
          "output_type": "stream",
          "name": "stdout",
          "text": [
            "Baseline Perceptron Metrics for Test data:\n",
            "Balanced Accuracy: 0.68\n",
            "f1_score: 0.81\n",
            "AUC: 0.80\n"
          ]
        },
        {
          "output_type": "execute_result",
          "data": {
            "text/plain": [
              "{'Balanced Accuracy': '0.68', 'f1_score': '0.81', 'AUC': '0.80'}"
            ]
          },
          "metadata": {},
          "execution_count": 20
        }
      ],
      "source": [
        "# Evaluate the Baseline Perceptron model on the test data\n",
        "ppn_test_metrics = evaluate_model('Baseline Perceptron', ppn, X_test, y_test, dataset_name=\"Test\")\n",
        "\n",
        "# Display the evaluation metrics for the test data\n",
        "ppn_test_metrics"
      ]
    },
    {
      "cell_type": "markdown",
      "metadata": {
        "id": "5ew2flAvDYql"
      },
      "source": [
        "#### Hyperparameter Optimization for Perceptron Using Grid Search"
      ]
    },
    {
      "cell_type": "code",
      "execution_count": 21,
      "metadata": {
        "colab": {
          "base_uri": "https://localhost:8080/"
        },
        "id": "LIKni9q1u184",
        "outputId": "50e0b4a6-1d7a-4fb0-ec24-916ac0fac812"
      },
      "outputs": [
        {
          "output_type": "stream",
          "name": "stdout",
          "text": [
            "Fitting 5 folds for each of 720 candidates, totalling 3600 fits\n",
            "Best Parameters:\n",
            "{'alpha': 0.0001, 'early_stopping': True, 'max_iter': 1000, 'penalty': 'l2', 'random_state': 0, 'tol': 0.001}\n"
          ]
        }
      ],
      "source": [
        "from sklearn.linear_model import Perceptron\n",
        "from sklearn.model_selection import GridSearchCV\n",
        "from sklearn.metrics import balanced_accuracy_score, f1_score\n",
        "\n",
        "# Define the parameter grid (similar to the one you provided)\n",
        "param_grid = {\n",
        "    'alpha': [0.00001, 0.0001, 0.001, 0.01, 0.1],\n",
        "    'max_iter': [1000, 3000, 5000, 7000, 10000, 15000],\n",
        "    'early_stopping': [True, False],\n",
        "    'penalty': [None, 'l1', 'l2', 'elasticnet'],\n",
        "    'tol': [1e-3, 1e-4, 1e-5],\n",
        "    'random_state': [0]\n",
        "}\n",
        "\n",
        "# Initialize Perceptron\n",
        "ppn = Perceptron()\n",
        "\n",
        "# Use GridSearchCV\n",
        "grid_search = GridSearchCV(ppn, param_grid, cv=5, n_jobs=-1, verbose=2)\n",
        "\n",
        "# Fit the model\n",
        "grid_search.fit(X_train, y_train)\n",
        "\n",
        "# Extract the best estimator and parameters\n",
        "best_ppn = grid_search.best_estimator_\n",
        "best_params = grid_search.best_params_\n",
        "\n",
        "print(\"Best Parameters:\")\n",
        "print(best_params)\n"
      ]
    },
    {
      "cell_type": "markdown",
      "source": [
        "#### Optimized Perceptron Hyper parameters Explanation\n",
        "\n",
        "    Alpha (Learning Rate):\n",
        "        Alpha: It controls the step size during training, especially in optimization algorithms like stochastic gradient descent (SGD).\n",
        "        Alpha=0.0001 implies that during each iteration of training, the model updates its parameters by taking a very small step in the direction that minimizes the loss function. Smaller values like this can lead to slower but more precise convergence.\n",
        "\n",
        "    Early Stopping:\n",
        "        Early_stopping: This is a regularization technique used during training. If set to True, as it is in this case, training will stop early if no improvement is observed on a validation set for a specified number of iterations.\n",
        "        Early stopping helps prevent overfitting. If the model's performance on a validation set stops improving, it's an indicator that further training may lead to overfitting, so training is halted.\n",
        "\n",
        "    Max Iterations (Maximum Iterations):\n",
        "        Max_iter: It defines the maximum number of iterations for the training algorithm to converge.\n",
        "        Max_iter=1000 means that the algorithm will iterate up to 1000 times, adjusting the model's parameters to minimize the loss function. This parameter helps prevent the training process from running indefinitely.\n",
        "\n",
        "    Penalty (Regularization Term):\n",
        "        Penalty: In this context, it refers to the type of regularization to apply during training. When set to 'l2', as in penalty='l2', it indicates Ridge regularization.\n",
        "        Ridge regularization adds a penalty term to the loss function that discourages large values in the model's weights. This helps prevent overfitting by reducing the complexity of the model.\n",
        "\n",
        "    Random State:\n",
        "        Random_state: It is used to control the random number generation used in various parts of the model's training process.\n",
        "        Random_state=0 ensures that the random operations, such as weight initialization, are reproducible. Setting it to a specific value allows you to obtain the same results in multiple runs, which is important for debugging and research.\n",
        "\n",
        "    Tolerance (Tol):\n",
        "        Tol: It serves as a stopping criterion during training. Training halts if the improvement in the loss is less than the specified tolerance for a certain number of iterations.\n",
        "        Tol=0.001 indicates that training will stop if the loss function doesn't improve by at least 0.001 for a set number of iterations. Smaller tolerance values make the model more sensitive to smaller improvements."
      ],
      "metadata": {
        "id": "1Vmla26c7gKF"
      }
    },
    {
      "cell_type": "markdown",
      "source": [],
      "metadata": {
        "id": "wSfWSbNr7wMo"
      }
    },
    {
      "cell_type": "code",
      "execution_count": 22,
      "metadata": {
        "colab": {
          "base_uri": "https://localhost:8080/",
          "height": 75
        },
        "id": "-107XtRnj8Ck",
        "outputId": "1216a40a-0b7f-431e-9a29-fc263fd76c3e"
      },
      "outputs": [
        {
          "output_type": "execute_result",
          "data": {
            "text/plain": [
              "Perceptron(early_stopping=True, penalty='l2')"
            ],
            "text/html": [
              "<style>#sk-container-id-2 {color: black;background-color: white;}#sk-container-id-2 pre{padding: 0;}#sk-container-id-2 div.sk-toggleable {background-color: white;}#sk-container-id-2 label.sk-toggleable__label {cursor: pointer;display: block;width: 100%;margin-bottom: 0;padding: 0.3em;box-sizing: border-box;text-align: center;}#sk-container-id-2 label.sk-toggleable__label-arrow:before {content: \"▸\";float: left;margin-right: 0.25em;color: #696969;}#sk-container-id-2 label.sk-toggleable__label-arrow:hover:before {color: black;}#sk-container-id-2 div.sk-estimator:hover label.sk-toggleable__label-arrow:before {color: black;}#sk-container-id-2 div.sk-toggleable__content {max-height: 0;max-width: 0;overflow: hidden;text-align: left;background-color: #f0f8ff;}#sk-container-id-2 div.sk-toggleable__content pre {margin: 0.2em;color: black;border-radius: 0.25em;background-color: #f0f8ff;}#sk-container-id-2 input.sk-toggleable__control:checked~div.sk-toggleable__content {max-height: 200px;max-width: 100%;overflow: auto;}#sk-container-id-2 input.sk-toggleable__control:checked~label.sk-toggleable__label-arrow:before {content: \"▾\";}#sk-container-id-2 div.sk-estimator input.sk-toggleable__control:checked~label.sk-toggleable__label {background-color: #d4ebff;}#sk-container-id-2 div.sk-label input.sk-toggleable__control:checked~label.sk-toggleable__label {background-color: #d4ebff;}#sk-container-id-2 input.sk-hidden--visually {border: 0;clip: rect(1px 1px 1px 1px);clip: rect(1px, 1px, 1px, 1px);height: 1px;margin: -1px;overflow: hidden;padding: 0;position: absolute;width: 1px;}#sk-container-id-2 div.sk-estimator {font-family: monospace;background-color: #f0f8ff;border: 1px dotted black;border-radius: 0.25em;box-sizing: border-box;margin-bottom: 0.5em;}#sk-container-id-2 div.sk-estimator:hover {background-color: #d4ebff;}#sk-container-id-2 div.sk-parallel-item::after {content: \"\";width: 100%;border-bottom: 1px solid gray;flex-grow: 1;}#sk-container-id-2 div.sk-label:hover label.sk-toggleable__label {background-color: #d4ebff;}#sk-container-id-2 div.sk-serial::before {content: \"\";position: absolute;border-left: 1px solid gray;box-sizing: border-box;top: 0;bottom: 0;left: 50%;z-index: 0;}#sk-container-id-2 div.sk-serial {display: flex;flex-direction: column;align-items: center;background-color: white;padding-right: 0.2em;padding-left: 0.2em;position: relative;}#sk-container-id-2 div.sk-item {position: relative;z-index: 1;}#sk-container-id-2 div.sk-parallel {display: flex;align-items: stretch;justify-content: center;background-color: white;position: relative;}#sk-container-id-2 div.sk-item::before, #sk-container-id-2 div.sk-parallel-item::before {content: \"\";position: absolute;border-left: 1px solid gray;box-sizing: border-box;top: 0;bottom: 0;left: 50%;z-index: -1;}#sk-container-id-2 div.sk-parallel-item {display: flex;flex-direction: column;z-index: 1;position: relative;background-color: white;}#sk-container-id-2 div.sk-parallel-item:first-child::after {align-self: flex-end;width: 50%;}#sk-container-id-2 div.sk-parallel-item:last-child::after {align-self: flex-start;width: 50%;}#sk-container-id-2 div.sk-parallel-item:only-child::after {width: 0;}#sk-container-id-2 div.sk-dashed-wrapped {border: 1px dashed gray;margin: 0 0.4em 0.5em 0.4em;box-sizing: border-box;padding-bottom: 0.4em;background-color: white;}#sk-container-id-2 div.sk-label label {font-family: monospace;font-weight: bold;display: inline-block;line-height: 1.2em;}#sk-container-id-2 div.sk-label-container {text-align: center;}#sk-container-id-2 div.sk-container {/* jupyter's `normalize.less` sets `[hidden] { display: none; }` but bootstrap.min.css set `[hidden] { display: none !important; }` so we also need the `!important` here to be able to override the default hidden behavior on the sphinx rendered scikit-learn.org. See: https://github.com/scikit-learn/scikit-learn/issues/21755 */display: inline-block !important;position: relative;}#sk-container-id-2 div.sk-text-repr-fallback {display: none;}</style><div id=\"sk-container-id-2\" class=\"sk-top-container\"><div class=\"sk-text-repr-fallback\"><pre>Perceptron(early_stopping=True, penalty=&#x27;l2&#x27;)</pre><b>In a Jupyter environment, please rerun this cell to show the HTML representation or trust the notebook. <br />On GitHub, the HTML representation is unable to render, please try loading this page with nbviewer.org.</b></div><div class=\"sk-container\" hidden><div class=\"sk-item\"><div class=\"sk-estimator sk-toggleable\"><input class=\"sk-toggleable__control sk-hidden--visually\" id=\"sk-estimator-id-2\" type=\"checkbox\" checked><label for=\"sk-estimator-id-2\" class=\"sk-toggleable__label sk-toggleable__label-arrow\">Perceptron</label><div class=\"sk-toggleable__content\"><pre>Perceptron(early_stopping=True, penalty=&#x27;l2&#x27;)</pre></div></div></div></div></div>"
            ]
          },
          "metadata": {},
          "execution_count": 22
        }
      ],
      "source": [
        "best_ppn"
      ]
    },
    {
      "cell_type": "markdown",
      "metadata": {
        "id": "gOylpzpCK17w"
      },
      "source": [
        "#### Training Metric Evaluation for optimized Perceptron:"
      ]
    },
    {
      "cell_type": "code",
      "execution_count": 23,
      "metadata": {
        "colab": {
          "base_uri": "https://localhost:8080/"
        },
        "id": "jc9092q1K8qc",
        "outputId": "0fb38e31-6905-443d-cc83-d4035fe9d999"
      },
      "outputs": [
        {
          "output_type": "stream",
          "name": "stdout",
          "text": [
            "Optimized Perceptron Metrics for Train data:\n",
            "Balanced Accuracy: 0.75\n",
            "f1_score: 0.77\n",
            "AUC: 0.84\n"
          ]
        },
        {
          "output_type": "execute_result",
          "data": {
            "text/plain": [
              "{'Balanced Accuracy': '0.75', 'f1_score': '0.77', 'AUC': '0.84'}"
            ]
          },
          "metadata": {},
          "execution_count": 23
        }
      ],
      "source": [
        "# Evaluate the optimized Perceptron model on the training data\n",
        "best_ppn_train_metrics = evaluate_model('Optimized Perceptron',  # Model name or description\n",
        "                                        best_ppn,                 # Optimized Perceptron model object\n",
        "                                        X_train,                 # Training data features\n",
        "                                        y_train,                 # True labels of the training data\n",
        "                                        dataset_name=\"Train\")    # Specify that the dataset being used is the training set\n",
        "\n",
        "# Display the training metrics of the optimized Perceptron model\n",
        "best_ppn_train_metrics"
      ]
    },
    {
      "cell_type": "markdown",
      "metadata": {
        "id": "h6VXweKsMmCL"
      },
      "source": [
        "#### Test Metric Evaluation for Optimized Perceptron:"
      ]
    },
    {
      "cell_type": "code",
      "execution_count": 24,
      "metadata": {
        "colab": {
          "base_uri": "https://localhost:8080/"
        },
        "id": "DrqTM2PkMev_",
        "outputId": "cddadac2-b1b0-4291-9c42-e7ebbf7b69de"
      },
      "outputs": [
        {
          "output_type": "stream",
          "name": "stdout",
          "text": [
            "Optimized Perceptron Metrics for Test data:\n",
            "Balanced Accuracy: 0.72\n",
            "f1_score: 0.77\n",
            "AUC: 0.81\n"
          ]
        },
        {
          "output_type": "execute_result",
          "data": {
            "text/plain": [
              "{'Balanced Accuracy': '0.72', 'f1_score': '0.77', 'AUC': '0.81'}"
            ]
          },
          "metadata": {},
          "execution_count": 24
        }
      ],
      "source": [
        "# Evaluate the Optimized Perceptron model on the test data\n",
        "best_ppn_test_metrics = evaluate_model('Optimized Perceptron', best_ppn, X_test, y_test, dataset_name=\"Test\")\n",
        "\n",
        "# Display the evaluation metrics for the test data\n",
        "best_ppn_test_metrics"
      ]
    },
    {
      "cell_type": "markdown",
      "metadata": {
        "id": "RG_PVzpYEHHt"
      },
      "source": [
        "#### Training a Multi-Layer Perceptron Classifier with Specified Hyperparameters"
      ]
    },
    {
      "cell_type": "code",
      "execution_count": 25,
      "metadata": {
        "colab": {
          "base_uri": "https://localhost:8080/",
          "height": 92
        },
        "id": "lMreuDTY5u9X",
        "outputId": "ebe2b9e9-9674-430a-d4ff-9bfbfcbe4a2d"
      },
      "outputs": [
        {
          "output_type": "execute_result",
          "data": {
            "text/plain": [
              "MLPClassifier(alpha=0.01, batch_size=64, hidden_layer_sizes=(6, 6),\n",
              "              max_iter=10000, random_state=2)"
            ],
            "text/html": [
              "<style>#sk-container-id-3 {color: black;background-color: white;}#sk-container-id-3 pre{padding: 0;}#sk-container-id-3 div.sk-toggleable {background-color: white;}#sk-container-id-3 label.sk-toggleable__label {cursor: pointer;display: block;width: 100%;margin-bottom: 0;padding: 0.3em;box-sizing: border-box;text-align: center;}#sk-container-id-3 label.sk-toggleable__label-arrow:before {content: \"▸\";float: left;margin-right: 0.25em;color: #696969;}#sk-container-id-3 label.sk-toggleable__label-arrow:hover:before {color: black;}#sk-container-id-3 div.sk-estimator:hover label.sk-toggleable__label-arrow:before {color: black;}#sk-container-id-3 div.sk-toggleable__content {max-height: 0;max-width: 0;overflow: hidden;text-align: left;background-color: #f0f8ff;}#sk-container-id-3 div.sk-toggleable__content pre {margin: 0.2em;color: black;border-radius: 0.25em;background-color: #f0f8ff;}#sk-container-id-3 input.sk-toggleable__control:checked~div.sk-toggleable__content {max-height: 200px;max-width: 100%;overflow: auto;}#sk-container-id-3 input.sk-toggleable__control:checked~label.sk-toggleable__label-arrow:before {content: \"▾\";}#sk-container-id-3 div.sk-estimator input.sk-toggleable__control:checked~label.sk-toggleable__label {background-color: #d4ebff;}#sk-container-id-3 div.sk-label input.sk-toggleable__control:checked~label.sk-toggleable__label {background-color: #d4ebff;}#sk-container-id-3 input.sk-hidden--visually {border: 0;clip: rect(1px 1px 1px 1px);clip: rect(1px, 1px, 1px, 1px);height: 1px;margin: -1px;overflow: hidden;padding: 0;position: absolute;width: 1px;}#sk-container-id-3 div.sk-estimator {font-family: monospace;background-color: #f0f8ff;border: 1px dotted black;border-radius: 0.25em;box-sizing: border-box;margin-bottom: 0.5em;}#sk-container-id-3 div.sk-estimator:hover {background-color: #d4ebff;}#sk-container-id-3 div.sk-parallel-item::after {content: \"\";width: 100%;border-bottom: 1px solid gray;flex-grow: 1;}#sk-container-id-3 div.sk-label:hover label.sk-toggleable__label {background-color: #d4ebff;}#sk-container-id-3 div.sk-serial::before {content: \"\";position: absolute;border-left: 1px solid gray;box-sizing: border-box;top: 0;bottom: 0;left: 50%;z-index: 0;}#sk-container-id-3 div.sk-serial {display: flex;flex-direction: column;align-items: center;background-color: white;padding-right: 0.2em;padding-left: 0.2em;position: relative;}#sk-container-id-3 div.sk-item {position: relative;z-index: 1;}#sk-container-id-3 div.sk-parallel {display: flex;align-items: stretch;justify-content: center;background-color: white;position: relative;}#sk-container-id-3 div.sk-item::before, #sk-container-id-3 div.sk-parallel-item::before {content: \"\";position: absolute;border-left: 1px solid gray;box-sizing: border-box;top: 0;bottom: 0;left: 50%;z-index: -1;}#sk-container-id-3 div.sk-parallel-item {display: flex;flex-direction: column;z-index: 1;position: relative;background-color: white;}#sk-container-id-3 div.sk-parallel-item:first-child::after {align-self: flex-end;width: 50%;}#sk-container-id-3 div.sk-parallel-item:last-child::after {align-self: flex-start;width: 50%;}#sk-container-id-3 div.sk-parallel-item:only-child::after {width: 0;}#sk-container-id-3 div.sk-dashed-wrapped {border: 1px dashed gray;margin: 0 0.4em 0.5em 0.4em;box-sizing: border-box;padding-bottom: 0.4em;background-color: white;}#sk-container-id-3 div.sk-label label {font-family: monospace;font-weight: bold;display: inline-block;line-height: 1.2em;}#sk-container-id-3 div.sk-label-container {text-align: center;}#sk-container-id-3 div.sk-container {/* jupyter's `normalize.less` sets `[hidden] { display: none; }` but bootstrap.min.css set `[hidden] { display: none !important; }` so we also need the `!important` here to be able to override the default hidden behavior on the sphinx rendered scikit-learn.org. See: https://github.com/scikit-learn/scikit-learn/issues/21755 */display: inline-block !important;position: relative;}#sk-container-id-3 div.sk-text-repr-fallback {display: none;}</style><div id=\"sk-container-id-3\" class=\"sk-top-container\"><div class=\"sk-text-repr-fallback\"><pre>MLPClassifier(alpha=0.01, batch_size=64, hidden_layer_sizes=(6, 6),\n",
              "              max_iter=10000, random_state=2)</pre><b>In a Jupyter environment, please rerun this cell to show the HTML representation or trust the notebook. <br />On GitHub, the HTML representation is unable to render, please try loading this page with nbviewer.org.</b></div><div class=\"sk-container\" hidden><div class=\"sk-item\"><div class=\"sk-estimator sk-toggleable\"><input class=\"sk-toggleable__control sk-hidden--visually\" id=\"sk-estimator-id-3\" type=\"checkbox\" checked><label for=\"sk-estimator-id-3\" class=\"sk-toggleable__label sk-toggleable__label-arrow\">MLPClassifier</label><div class=\"sk-toggleable__content\"><pre>MLPClassifier(alpha=0.01, batch_size=64, hidden_layer_sizes=(6, 6),\n",
              "              max_iter=10000, random_state=2)</pre></div></div></div></div></div>"
            ]
          },
          "metadata": {},
          "execution_count": 25
        }
      ],
      "source": [
        "from sklearn.neural_network import MLPClassifier\n",
        "\n",
        "# Initialize the MLPClassifier with specified hyperparameters\n",
        "mlp_clf = MLPClassifier(\n",
        "    solver=\"adam\",          # Optimizer to use for weight optimization\n",
        "    max_iter=10000,          # Maximum number of iterations for the solver to converge\n",
        "    activation=\"relu\",      # Activation function for the hidden layer\n",
        "    hidden_layer_sizes=(6,6), # Number of neurons in the hidden layer\n",
        "    alpha=0.01,             # Regularization parameter\n",
        "    batch_size=64,          # Size of minibatches for stochastic solvers\n",
        "    learning_rate_init=0.001, # Initial learning rate for weight optimization\n",
        "    random_state=2,         # Random seed for reproducibility\n",
        ")\n",
        "\n",
        "# Train the MLPClassifier on the training data\n",
        "mlp_clf.fit(X_train, y_train.values.ravel())"
      ]
    },
    {
      "cell_type": "markdown",
      "source": [
        "#### MLP Best Parameters Explanation\n",
        "\n",
        "    Alpha (Learning Rate):\n",
        "        Alpha is a hyperparameter that controls the step size during the training of a machine learning model, particularly in gradient-based optimization algorithms like stochastic gradient descent (SGD).\n",
        "        In this context, alpha=0.01 means that during each iteration of training, the model updates its parameters (weights and biases) by taking a step in the direction that minimizes the loss function, and the size of that step is 0.01 times the gradient of the loss with respect to the parameters.\n",
        "        A smaller alpha value implies smaller steps, potentially leading to more precise convergence, but it might also increase the training time.\n",
        "\n",
        "    Batch Size:\n",
        "        Batch size determines the number of data samples that are used in each iteration of the training process.\n",
        "        A batch_size=64 means that, during training, the model updates its parameters using 64 data samples at a time. This is a common practice in mini-batch gradient descent, which is often used for training neural networks.\n",
        "        Smaller batch sizes provide a kind of regularization effect and may lead to lower generalization error, but they can also make training slower due to more frequent parameter updates.\n",
        "\n",
        "    Hidden Layer Sizes:\n",
        "        In the context of a neural network, like the Multi-Layer Perceptron (MLP), hidden_layer_sizes=(6, 6) specifies the architecture of the hidden layers.\n",
        "        The numbers within the tuple represent the number of neurons (also known as units or nodes) in each hidden layer. In this case, there are two hidden layers, each containing 6 neurons.\n",
        "        The hidden layers are responsible for learning and representing complex patterns in the data. The specific choice of the number of neurons can significantly impact the model's capacity to learn and its generalization ability.\n",
        "\n",
        "    Max Iterations (Maximum Iterations):\n",
        "        Max_iter=10000 specifies the maximum number of iterations or passes through the training data that the model should perform during training.\n",
        "        It acts as a stopping criterion. If the model doesn't converge (i.e., reach a stable solution) within these maximum iterations, training will stop, even if the model hasn't fully learned the underlying patterns in the data.\n",
        "        Setting a high value, like 10000, allows the model more opportunities to learn, but it also comes with the risk of overfitting if not balanced with other regularization techniques.\n",
        "\n",
        "    Random State:\n",
        "        Random_state=2 is used to control the randomness or seed the random number generator used during various parts of the model training.\n",
        "        In machine learning, many operations involve randomness, such as weight initialization or data shuffling. By setting the random state to a specific value (e.g., 2), you ensure that these random operations are reproducible.\n",
        "        Reproducibility is essential for research and debugging, as it allows you to recreate the same results in multiple runs."
      ],
      "metadata": {
        "id": "De0Jfgrd6wj7"
      }
    },
    {
      "cell_type": "markdown",
      "metadata": {
        "id": "pR1D75hYEWt_"
      },
      "source": [
        "#### Training Metric Evaluation for MLP:"
      ]
    },
    {
      "cell_type": "code",
      "execution_count": 26,
      "metadata": {
        "colab": {
          "base_uri": "https://localhost:8080/"
        },
        "id": "Efs6UfOSMxo4",
        "outputId": "5297cfd2-bcb5-4f4a-a05c-e85b81a120dc"
      },
      "outputs": [
        {
          "output_type": "stream",
          "name": "stdout",
          "text": [
            "MLP Metrics for Train data:\n",
            "Balanced Accuracy: 0.76\n",
            "f1_score: 0.85\n",
            "AUC: 0.87\n"
          ]
        },
        {
          "output_type": "execute_result",
          "data": {
            "text/plain": [
              "{'Balanced Accuracy': '0.76', 'f1_score': '0.85', 'AUC': '0.87'}"
            ]
          },
          "metadata": {},
          "execution_count": 26
        }
      ],
      "source": [
        "mlp_train_metrics = evaluate_model('MLP', mlp_clf, X_train, y_train, dataset_name=\"Train\")\n",
        "mlp_train_metrics"
      ]
    },
    {
      "cell_type": "markdown",
      "metadata": {
        "id": "eCVYiK7WM7zC"
      },
      "source": [
        "#### Test Metric Evaluation for MLP:"
      ]
    },
    {
      "cell_type": "code",
      "execution_count": 27,
      "metadata": {
        "colab": {
          "base_uri": "https://localhost:8080/"
        },
        "id": "cCjvBHmzM6ML",
        "outputId": "d471edd5-333d-4077-e39d-f27b298a5d71"
      },
      "outputs": [
        {
          "output_type": "stream",
          "name": "stdout",
          "text": [
            "MLP Metrics for Test data:\n",
            "Balanced Accuracy: 0.78\n",
            "f1_score: 0.86\n",
            "AUC: 0.84\n"
          ]
        },
        {
          "output_type": "execute_result",
          "data": {
            "text/plain": [
              "{'Balanced Accuracy': '0.78', 'f1_score': '0.86', 'AUC': '0.84'}"
            ]
          },
          "metadata": {},
          "execution_count": 27
        }
      ],
      "source": [
        "mlp_test_metrics = evaluate_model('MLP', mlp_clf, X_test, y_test, dataset_name=\"Test\")\n",
        "mlp_test_metrics"
      ]
    },
    {
      "cell_type": "code",
      "execution_count": 28,
      "metadata": {
        "colab": {
          "base_uri": "https://localhost:8080/",
          "height": 269
        },
        "id": "TRxQkiLdfy-6",
        "outputId": "4e01ae7c-4157-43e5-f051-504c508ab256"
      },
      "outputs": [
        {
          "output_type": "execute_result",
          "data": {
            "text/plain": [
              "                          Baseline Perceptron Optimized Perceptron   MLP\n",
              "Metric                                                                  \n",
              "Balanced Accuracy (Train)                0.73                 0.75  0.76\n",
              "Balanced Accuracy (Test)                 0.68                 0.72  0.78\n",
              "F1 Score (Train)                         0.84                 0.77  0.85\n",
              "F1 Score (Test)                          0.81                 0.77  0.86\n",
              "AUC (Train)                              0.83                 0.84  0.87\n",
              "AUC (Test)                               0.80                 0.81  0.84"
            ],
            "text/html": [
              "\n",
              "  <div id=\"df-3db3f083-ae0b-4081-a490-c83514a050e9\" class=\"colab-df-container\">\n",
              "    <div>\n",
              "<style scoped>\n",
              "    .dataframe tbody tr th:only-of-type {\n",
              "        vertical-align: middle;\n",
              "    }\n",
              "\n",
              "    .dataframe tbody tr th {\n",
              "        vertical-align: top;\n",
              "    }\n",
              "\n",
              "    .dataframe thead th {\n",
              "        text-align: right;\n",
              "    }\n",
              "</style>\n",
              "<table border=\"1\" class=\"dataframe\">\n",
              "  <thead>\n",
              "    <tr style=\"text-align: right;\">\n",
              "      <th></th>\n",
              "      <th>Baseline Perceptron</th>\n",
              "      <th>Optimized Perceptron</th>\n",
              "      <th>MLP</th>\n",
              "    </tr>\n",
              "    <tr>\n",
              "      <th>Metric</th>\n",
              "      <th></th>\n",
              "      <th></th>\n",
              "      <th></th>\n",
              "    </tr>\n",
              "  </thead>\n",
              "  <tbody>\n",
              "    <tr>\n",
              "      <th>Balanced Accuracy (Train)</th>\n",
              "      <td>0.73</td>\n",
              "      <td>0.75</td>\n",
              "      <td>0.76</td>\n",
              "    </tr>\n",
              "    <tr>\n",
              "      <th>Balanced Accuracy (Test)</th>\n",
              "      <td>0.68</td>\n",
              "      <td>0.72</td>\n",
              "      <td>0.78</td>\n",
              "    </tr>\n",
              "    <tr>\n",
              "      <th>F1 Score (Train)</th>\n",
              "      <td>0.84</td>\n",
              "      <td>0.77</td>\n",
              "      <td>0.85</td>\n",
              "    </tr>\n",
              "    <tr>\n",
              "      <th>F1 Score (Test)</th>\n",
              "      <td>0.81</td>\n",
              "      <td>0.77</td>\n",
              "      <td>0.86</td>\n",
              "    </tr>\n",
              "    <tr>\n",
              "      <th>AUC (Train)</th>\n",
              "      <td>0.83</td>\n",
              "      <td>0.84</td>\n",
              "      <td>0.87</td>\n",
              "    </tr>\n",
              "    <tr>\n",
              "      <th>AUC (Test)</th>\n",
              "      <td>0.80</td>\n",
              "      <td>0.81</td>\n",
              "      <td>0.84</td>\n",
              "    </tr>\n",
              "  </tbody>\n",
              "</table>\n",
              "</div>\n",
              "    <div class=\"colab-df-buttons\">\n",
              "\n",
              "  <div class=\"colab-df-container\">\n",
              "    <button class=\"colab-df-convert\" onclick=\"convertToInteractive('df-3db3f083-ae0b-4081-a490-c83514a050e9')\"\n",
              "            title=\"Convert this dataframe to an interactive table.\"\n",
              "            style=\"display:none;\">\n",
              "\n",
              "  <svg xmlns=\"http://www.w3.org/2000/svg\" height=\"24px\" viewBox=\"0 -960 960 960\">\n",
              "    <path d=\"M120-120v-720h720v720H120Zm60-500h600v-160H180v160Zm220 220h160v-160H400v160Zm0 220h160v-160H400v160ZM180-400h160v-160H180v160Zm440 0h160v-160H620v160ZM180-180h160v-160H180v160Zm440 0h160v-160H620v160Z\"/>\n",
              "  </svg>\n",
              "    </button>\n",
              "\n",
              "  <style>\n",
              "    .colab-df-container {\n",
              "      display:flex;\n",
              "      gap: 12px;\n",
              "    }\n",
              "\n",
              "    .colab-df-convert {\n",
              "      background-color: #E8F0FE;\n",
              "      border: none;\n",
              "      border-radius: 50%;\n",
              "      cursor: pointer;\n",
              "      display: none;\n",
              "      fill: #1967D2;\n",
              "      height: 32px;\n",
              "      padding: 0 0 0 0;\n",
              "      width: 32px;\n",
              "    }\n",
              "\n",
              "    .colab-df-convert:hover {\n",
              "      background-color: #E2EBFA;\n",
              "      box-shadow: 0px 1px 2px rgba(60, 64, 67, 0.3), 0px 1px 3px 1px rgba(60, 64, 67, 0.15);\n",
              "      fill: #174EA6;\n",
              "    }\n",
              "\n",
              "    .colab-df-buttons div {\n",
              "      margin-bottom: 4px;\n",
              "    }\n",
              "\n",
              "    [theme=dark] .colab-df-convert {\n",
              "      background-color: #3B4455;\n",
              "      fill: #D2E3FC;\n",
              "    }\n",
              "\n",
              "    [theme=dark] .colab-df-convert:hover {\n",
              "      background-color: #434B5C;\n",
              "      box-shadow: 0px 1px 3px 1px rgba(0, 0, 0, 0.15);\n",
              "      filter: drop-shadow(0px 1px 2px rgba(0, 0, 0, 0.3));\n",
              "      fill: #FFFFFF;\n",
              "    }\n",
              "  </style>\n",
              "\n",
              "    <script>\n",
              "      const buttonEl =\n",
              "        document.querySelector('#df-3db3f083-ae0b-4081-a490-c83514a050e9 button.colab-df-convert');\n",
              "      buttonEl.style.display =\n",
              "        google.colab.kernel.accessAllowed ? 'block' : 'none';\n",
              "\n",
              "      async function convertToInteractive(key) {\n",
              "        const element = document.querySelector('#df-3db3f083-ae0b-4081-a490-c83514a050e9');\n",
              "        const dataTable =\n",
              "          await google.colab.kernel.invokeFunction('convertToInteractive',\n",
              "                                                    [key], {});\n",
              "        if (!dataTable) return;\n",
              "\n",
              "        const docLinkHtml = 'Like what you see? Visit the ' +\n",
              "          '<a target=\"_blank\" href=https://colab.research.google.com/notebooks/data_table.ipynb>data table notebook</a>'\n",
              "          + ' to learn more about interactive tables.';\n",
              "        element.innerHTML = '';\n",
              "        dataTable['output_type'] = 'display_data';\n",
              "        await google.colab.output.renderOutput(dataTable, element);\n",
              "        const docLink = document.createElement('div');\n",
              "        docLink.innerHTML = docLinkHtml;\n",
              "        element.appendChild(docLink);\n",
              "      }\n",
              "    </script>\n",
              "  </div>\n",
              "\n",
              "\n",
              "<div id=\"df-ceec428e-6ec4-4e47-9b66-366959c3c806\">\n",
              "  <button class=\"colab-df-quickchart\" onclick=\"quickchart('df-ceec428e-6ec4-4e47-9b66-366959c3c806')\"\n",
              "            title=\"Suggest charts.\"\n",
              "            style=\"display:none;\">\n",
              "\n",
              "<svg xmlns=\"http://www.w3.org/2000/svg\" height=\"24px\"viewBox=\"0 0 24 24\"\n",
              "     width=\"24px\">\n",
              "    <g>\n",
              "        <path d=\"M19 3H5c-1.1 0-2 .9-2 2v14c0 1.1.9 2 2 2h14c1.1 0 2-.9 2-2V5c0-1.1-.9-2-2-2zM9 17H7v-7h2v7zm4 0h-2V7h2v10zm4 0h-2v-4h2v4z\"/>\n",
              "    </g>\n",
              "</svg>\n",
              "  </button>\n",
              "\n",
              "<style>\n",
              "  .colab-df-quickchart {\n",
              "      --bg-color: #E8F0FE;\n",
              "      --fill-color: #1967D2;\n",
              "      --hover-bg-color: #E2EBFA;\n",
              "      --hover-fill-color: #174EA6;\n",
              "      --disabled-fill-color: #AAA;\n",
              "      --disabled-bg-color: #DDD;\n",
              "  }\n",
              "\n",
              "  [theme=dark] .colab-df-quickchart {\n",
              "      --bg-color: #3B4455;\n",
              "      --fill-color: #D2E3FC;\n",
              "      --hover-bg-color: #434B5C;\n",
              "      --hover-fill-color: #FFFFFF;\n",
              "      --disabled-bg-color: #3B4455;\n",
              "      --disabled-fill-color: #666;\n",
              "  }\n",
              "\n",
              "  .colab-df-quickchart {\n",
              "    background-color: var(--bg-color);\n",
              "    border: none;\n",
              "    border-radius: 50%;\n",
              "    cursor: pointer;\n",
              "    display: none;\n",
              "    fill: var(--fill-color);\n",
              "    height: 32px;\n",
              "    padding: 0;\n",
              "    width: 32px;\n",
              "  }\n",
              "\n",
              "  .colab-df-quickchart:hover {\n",
              "    background-color: var(--hover-bg-color);\n",
              "    box-shadow: 0 1px 2px rgba(60, 64, 67, 0.3), 0 1px 3px 1px rgba(60, 64, 67, 0.15);\n",
              "    fill: var(--button-hover-fill-color);\n",
              "  }\n",
              "\n",
              "  .colab-df-quickchart-complete:disabled,\n",
              "  .colab-df-quickchart-complete:disabled:hover {\n",
              "    background-color: var(--disabled-bg-color);\n",
              "    fill: var(--disabled-fill-color);\n",
              "    box-shadow: none;\n",
              "  }\n",
              "\n",
              "  .colab-df-spinner {\n",
              "    border: 2px solid var(--fill-color);\n",
              "    border-color: transparent;\n",
              "    border-bottom-color: var(--fill-color);\n",
              "    animation:\n",
              "      spin 1s steps(1) infinite;\n",
              "  }\n",
              "\n",
              "  @keyframes spin {\n",
              "    0% {\n",
              "      border-color: transparent;\n",
              "      border-bottom-color: var(--fill-color);\n",
              "      border-left-color: var(--fill-color);\n",
              "    }\n",
              "    20% {\n",
              "      border-color: transparent;\n",
              "      border-left-color: var(--fill-color);\n",
              "      border-top-color: var(--fill-color);\n",
              "    }\n",
              "    30% {\n",
              "      border-color: transparent;\n",
              "      border-left-color: var(--fill-color);\n",
              "      border-top-color: var(--fill-color);\n",
              "      border-right-color: var(--fill-color);\n",
              "    }\n",
              "    40% {\n",
              "      border-color: transparent;\n",
              "      border-right-color: var(--fill-color);\n",
              "      border-top-color: var(--fill-color);\n",
              "    }\n",
              "    60% {\n",
              "      border-color: transparent;\n",
              "      border-right-color: var(--fill-color);\n",
              "    }\n",
              "    80% {\n",
              "      border-color: transparent;\n",
              "      border-right-color: var(--fill-color);\n",
              "      border-bottom-color: var(--fill-color);\n",
              "    }\n",
              "    90% {\n",
              "      border-color: transparent;\n",
              "      border-bottom-color: var(--fill-color);\n",
              "    }\n",
              "  }\n",
              "</style>\n",
              "\n",
              "  <script>\n",
              "    async function quickchart(key) {\n",
              "      const quickchartButtonEl =\n",
              "        document.querySelector('#' + key + ' button');\n",
              "      quickchartButtonEl.disabled = true;  // To prevent multiple clicks.\n",
              "      quickchartButtonEl.classList.add('colab-df-spinner');\n",
              "      try {\n",
              "        const charts = await google.colab.kernel.invokeFunction(\n",
              "            'suggestCharts', [key], {});\n",
              "      } catch (error) {\n",
              "        console.error('Error during call to suggestCharts:', error);\n",
              "      }\n",
              "      quickchartButtonEl.classList.remove('colab-df-spinner');\n",
              "      quickchartButtonEl.classList.add('colab-df-quickchart-complete');\n",
              "    }\n",
              "    (() => {\n",
              "      let quickchartButtonEl =\n",
              "        document.querySelector('#df-ceec428e-6ec4-4e47-9b66-366959c3c806 button');\n",
              "      quickchartButtonEl.style.display =\n",
              "        google.colab.kernel.accessAllowed ? 'block' : 'none';\n",
              "    })();\n",
              "  </script>\n",
              "</div>\n",
              "    </div>\n",
              "  </div>\n"
            ]
          },
          "metadata": {},
          "execution_count": 28
        }
      ],
      "source": [
        "# Organizing the collected metrics for each model in a structured format\n",
        "metrics_data = {\n",
        "    # Defining the metrics names for better clarity in the table\n",
        "    'Metric': ['Balanced Accuracy (Train)', 'Balanced Accuracy (Test)',\n",
        "               'F1 Score (Train)', 'F1 Score (Test)',\n",
        "               'AUC (Train)', 'AUC (Test)'],\n",
        "\n",
        "    # Metrics values for the Baseline Perceptron model\n",
        "    'Baseline Perceptron': [ppn_train_metrics['Balanced Accuracy'], ppn_test_metrics['Balanced Accuracy'],\n",
        "                            ppn_train_metrics['f1_score'], ppn_test_metrics['f1_score'],\n",
        "                            ppn_train_metrics['AUC'], ppn_test_metrics['AUC']],\n",
        "\n",
        "    # Metrics values for the Optimized Perceptron model\n",
        "    'Optimized Perceptron': [best_ppn_train_metrics['Balanced Accuracy'], best_ppn_test_metrics['Balanced Accuracy'],\n",
        "                             best_ppn_train_metrics['f1_score'], best_ppn_test_metrics['f1_score'],\n",
        "                             best_ppn_train_metrics['AUC'], best_ppn_test_metrics['AUC']],\n",
        "\n",
        "    # Metrics values for the MLP model\n",
        "    'MLP': [mlp_train_metrics['Balanced Accuracy'], mlp_test_metrics['Balanced Accuracy'],\n",
        "            mlp_train_metrics['f1_score'], mlp_test_metrics['f1_score'],\n",
        "            mlp_train_metrics['AUC'], mlp_test_metrics['AUC']]\n",
        "}\n",
        "\n",
        "# Create a DataFrame from the metrics data for easy visualization and comparison\n",
        "metrics_table = pd.DataFrame(metrics_data)\n",
        "\n",
        "# Setting the 'Metric' column as the index for better representation in the table\n",
        "metrics_table = metrics_table.set_index('Metric')\n",
        "\n",
        "# Display the formatted metrics table\n",
        "metrics_table\n"
      ]
    }
  ],
  "metadata": {
    "colab": {
      "provenance": [],
      "authorship_tag": "ABX9TyMjjS7c3pe6MDcmRiT4EJ7U",
      "include_colab_link": true
    },
    "kernelspec": {
      "display_name": "Python 3",
      "name": "python3"
    },
    "language_info": {
      "name": "python"
    }
  },
  "nbformat": 4,
  "nbformat_minor": 0
}